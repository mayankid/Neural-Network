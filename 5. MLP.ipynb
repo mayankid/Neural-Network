{
 "cells": [
  {
   "cell_type": "markdown",
   "metadata": {
    "id": "BDxNhJCKi1-q"
   },
   "source": [
    "# <font color = 'orange'>**Multilayer Perceptron (MLP)**</font>"
   ]
  },
  {
   "cell_type": "markdown",
   "metadata": {
    "id": "lfH_fQQNtDJe"
   },
   "source": [
    "A multilayer perceptron is a basic neural neural network where the hidden layers are densely connected vectors i.e., every neuron in one layer is connected to every other neuron in the next layer.<br/>\n",
    "In this tutorial we are going to construct one such network to classify the MNIST handwritten digit database.\n",
    "We will build the network progressively, evolving it at every step, to fit our needs.<br/>\n",
    "The purpose of this tutorial is to convey the process of gaining an intuition about the architecture of a neural network that suits a particular type of deep learning problem.<br/><br/>\n",
    "\n",
    "**Please Note:** Due to the stochastic nature of our model, your results might differ from previous ones already documented. Please take the accompanying text with a grain of salt."
   ]
  },
  {
   "cell_type": "markdown",
   "metadata": {
    "id": "Wpmy3MUQvtug"
   },
   "source": [
    "---------------------\n",
    "\n",
    "Keras has an API to directly load the MNIST digit dataset neatly split into training and testing sets along with relevant labels.\n",
    "<font size='5'>``tensorflow.keras.datasets.mnist``<font/>"
   ]
  },
  {
   "cell_type": "code",
   "execution_count": 1,
   "metadata": {
    "id": "0PzaKK2TUpY1"
   },
   "outputs": [],
   "source": [
    "import numpy as np\n",
    "from keras.initializers import RandomNormal\n",
    "from keras.layers import Activation, Dense, Dropout, Flatten, ReLU\n",
    "from keras.models import Model\n",
    "from keras.models import Input\n",
    "from keras.optimizers import Adam\n",
    "from keras.utils import to_categorical, plot_model\n",
    "from tensorflow.keras.datasets import mnist\n",
    "import matplotlib.pyplot as plt"
   ]
  },
  {
   "cell_type": "markdown",
   "metadata": {
    "id": "Md6nYmMF4_1_"
   },
   "source": [
    "---------------\n",
    "\n",
    "## <font color='orange'>**Dataset**<font/>\n",
    "\n",
    "MNIST (Modified National Institute of Standards and Technology) digits is a collection of handwritten digits ranging from 0 to 9. It has a training set of 60,000 images, and 10,000 test images that are classified into corresponding categories or labels.<br/>\n",
    "They are grayscale images (single channel specifying pixel intensity) of 28 x 28 pixels.<br/><br/>\n",
    "The ``mnist.load_data()`` function sets up the training and testing sets, along with the assigned labels for you, as shown below. You can also download the dataset separately from here [The MNIST Database](http://yann.lecun.com/exdb/mnist/) and set it up to be loaded from your Google Drive.<br/><br/>\n",
    "This is, kind of the entryway, to test your image based models. The images here are simple (in terms of features to be learnt), in ample number, and are **\"real world\"** samples.<br/><br/>\n",
    "\"*If it doesn't work on MNIST, it won't work on anything else.<br/>*\n",
    "*If it works on MNIST, it might not work on everything else.\"*"
   ]
  },
  {
   "cell_type": "code",
   "execution_count": 2,
   "metadata": {
    "colab": {
     "base_uri": "https://localhost:8080/"
    },
    "id": "p2CSSXYxWn-I",
    "outputId": "3b3f9488-524a-42ec-a6a3-bccadc000195"
   },
   "outputs": [],
   "source": [
    "(x_train, y_train), (x_test, y_test) = mnist.load_data()"
   ]
  },
  {
   "cell_type": "code",
   "execution_count": 3,
   "metadata": {
    "colab": {
     "base_uri": "https://localhost:8080/"
    },
    "id": "zcWQk-_YXgYA",
    "outputId": "5355a16e-25e1-4b1c-e25a-fe703bee1540"
   },
   "outputs": [
    {
     "name": "stdout",
     "output_type": "stream",
     "text": [
      "(60000, 28, 28) (10000, 28, 28)\n"
     ]
    }
   ],
   "source": [
    "# Shows the number of images and their dimensions respectively\n",
    "print(x_train.shape, x_test.shape)"
   ]
  },
  {
   "cell_type": "code",
   "execution_count": 4,
   "metadata": {
    "colab": {
     "base_uri": "https://localhost:8080/",
     "height": 157
    },
    "id": "mQO_9hmDXuqb",
    "outputId": "754341e5-76f8-432c-a2e0-bfa527c49b54"
   },
   "outputs": [
    {
     "data": {
      "text/plain": [
       "<matplotlib.image.AxesImage at 0x26bbac43250>"
      ]
     },
     "execution_count": 4,
     "metadata": {},
     "output_type": "execute_result"
    },
    {
     "data": {
      "image/png": "[encoded data removed]",
      "text/plain": [
       "<Figure size 144x144 with 1 Axes>"
      ]
     },
     "metadata": {
      "needs_background": "light"
     },
     "output_type": "display_data"
    }
   ],
   "source": [
    "plt.figure(figsize=(2,2))   # 2 X 2 inches, 1 inch ~ 80 pixels\n",
    "plt.axis(\"off\")\n",
    "plt.imshow(x_train[0], cmap='Greys')"
   ]
  },
  {
   "cell_type": "markdown",
   "metadata": {
    "id": "Y_yn9GUH-OsO"
   },
   "source": [
    "------------\n",
    "The code below is to extract only a specific class of digits from the dataset, should you wish to work on a smaller scale."
   ]
  },
  {
   "cell_type": "code",
   "execution_count": 5,
   "metadata": {
    "id": "DezLuF9acehR"
   },
   "outputs": [],
   "source": [
    "# collect specific digits\n",
    "\n",
    "# train_filter = np.where((Y_train == 0 ) | (Y_train == 4))\n",
    "# test_filter = np.where((Y_test == 0) | (Y_test == 4))\n",
    "\n",
    "# X_train, Y_train = X_train[train_filter], Y_train[train_filter]\n",
    "# X_test, Y_test = X_test[test_filter], Y_test[test_filter]"
   ]
  },
  {
   "cell_type": "markdown",
   "metadata": {
    "id": "bV4ttPmH-pkz"
   },
   "source": [
    "-----------\n",
    "\n",
    "## <font color='orange'>**Dataset Distribution**<font/>\n",
    "\n",
    "Let us now see how the data is distributed among all the classes.<br/><br/>\n",
    "It is an important thing to check if the dataset is distributed evenly (with some margin allowed) among all classes, otherwise our model might be trained with a bias against a certain set of classes, and this might might work against it during testing or application.<br/><br/>\n",
    "From the plotted histogram we see that the data is quite evenly distributed, so we can proceed further."
   ]
  },
  {
   "cell_type": "code",
   "execution_count": 6,
   "metadata": {
    "colab": {
     "base_uri": "https://localhost:8080/",
     "height": 388
    },
    "id": "EH0WlSyWeD_y",
    "outputId": "a43084bb-9a94-4fbf-82d4-41fbabd9716d"
   },
   "outputs": [
    {
     "data": {
      "text/plain": [
       "(array([5923., 6742., 5958., 6131., 5842., 5421., 5918., 6265., 5851.,\n",
       "        5949.]),\n",
       " array([0. , 0.9, 1.8, 2.7, 3.6, 4.5, 5.4, 6.3, 7.2, 8.1, 9. ]),\n",
       " <BarContainer object of 10 artists>)"
      ]
     },
     "execution_count": 6,
     "metadata": {},
     "output_type": "execute_result"
    },
    {
     "data": {
      "image/png": "[encoded data removed]",
      "text/plain": [
       "<Figure size 720x360 with 1 Axes>"
      ]
     },
     "metadata": {
      "needs_background": "light"
     },
     "output_type": "display_data"
    }
   ],
   "source": [
    "# checking for even distribution\n",
    "\n",
    "plt.figure(figsize=(10,5))\n",
    "plt.hist(y_train, edgecolor='white', linewidth=2)"
   ]
  },
  {
   "cell_type": "markdown",
   "metadata": {
    "id": "iLFwhmd6DTM0"
   },
   "source": [
    "---------------\n",
    "\n",
    "## <font color='orange'>**Categorical Labels vs. One-Hot Encoding**<font/>\n",
    "\n",
    "The labels provided to us via the MNIST represent their respective digits i.e., a handwritten digit of 7 is labelled as '7' (categorical data). While this is conveninet for us, our nueral network will not see it that way.<br/><br/>\n",
    "\n",
    "Although our dataset is that of digits, there really isn't any ordinal relationship among them, nor do we want there to be. The expectancy of our model should not be to classify the next digit image as + 1 of the previous image.<br/>\n",
    "\n",
    "Using the provided labels will allow the model to assume a natural ordering between categories and may result in poor performance or unexpected results (predictions halfway between categories, or it assumes higher the categorical value, better the category.).<br/><br/>\n",
    "\n",
    "To mitigate this problem, we use one-hot encoding (as shown below), where '0' indicates non-existant and '1' indicates existant.<br/><br/>\n",
    "\n",
    "The list indices where '1' is encoded represent the respective digit i.e., for digit '5', the fifth index will be '1' and the rest will be '0'."
   ]
  },
  {
   "cell_type": "code",
   "execution_count": 7,
   "metadata": {
    "colab": {
     "base_uri": "https://localhost:8080/"
    },
    "id": "jc1YQC5LjRZl",
    "outputId": "3fc2cfe0-8600-4fa5-e66f-2d4bb88613be"
   },
   "outputs": [
    {
     "name": "stdout",
     "output_type": "stream",
     "text": [
      "[5 0 4 1 9 2 1 3 1 4]\n"
     ]
    }
   ],
   "source": [
    "# Raw labels\n",
    "\n",
    "print(y_train[:10])"
   ]
  },
  {
   "cell_type": "code",
   "execution_count": 8,
   "metadata": {
    "colab": {
     "base_uri": "https://localhost:8080/"
    },
    "id": "PflIjvnffts9",
    "outputId": "4fb6e588-d53f-42db-f79b-57d7bd4ba2ec"
   },
   "outputs": [
    {
     "name": "stdout",
     "output_type": "stream",
     "text": [
      "[[0. 0. 0. 0. 0. 1. 0. 0. 0. 0.]\n",
      " [1. 0. 0. 0. 0. 0. 0. 0. 0. 0.]\n",
      " [0. 0. 0. 0. 1. 0. 0. 0. 0. 0.]\n",
      " [0. 1. 0. 0. 0. 0. 0. 0. 0. 0.]\n",
      " [0. 0. 0. 0. 0. 0. 0. 0. 0. 1.]\n",
      " [0. 0. 1. 0. 0. 0. 0. 0. 0. 0.]\n",
      " [0. 1. 0. 0. 0. 0. 0. 0. 0. 0.]\n",
      " [0. 0. 0. 1. 0. 0. 0. 0. 0. 0.]\n",
      " [0. 1. 0. 0. 0. 0. 0. 0. 0. 0.]\n",
      " [0. 0. 0. 0. 1. 0. 0. 0. 0. 0.]]\n"
     ]
    }
   ],
   "source": [
    "# One-hot encoded labels (compare above)\n",
    "\n",
    "y_train_cat = to_categorical(y_train)\n",
    "y_test_cat = to_categorical(y_test)\n",
    "\n",
    "print(y_train_cat[:10])"
   ]
  },
  {
   "cell_type": "markdown",
   "metadata": {
    "id": "XhHjqA-AJvl9"
   },
   "source": [
    "-----------------\n",
    "\n",
    "## <font color='orange'>**Dataset Normalization**<font/>\n",
    "\n",
    "Neural networks tend to work better with small values. A good way to judge this, is to check the range of your activation function in the last layer, or your output layer.<br/>\n",
    "Large values might grow out of bounds and corrupt the network through subsquent training steps.<br/><br/>\n",
    "\n",
    "Therefore, we normalize our image pixels values from [ 0, 255 ] to [ 0, 1 ]."
   ]
  },
  {
   "cell_type": "code",
   "execution_count": 9,
   "metadata": {
    "id": "jnR0WlEBkYaJ"
   },
   "outputs": [],
   "source": [
    "# normalization\n",
    "x_train_reg = x_train.astype('float32') / 255.0\n",
    "x_test_reg = x_test.astype('float32') / 255.0"
   ]
  },
  {
   "cell_type": "markdown",
   "metadata": {
    "id": "ul2T89SXLSfe"
   },
   "source": [
    "--------------\n",
    "\n",
    "## <font color='orange'>**Classifier Architecture**<font/>\n",
    "\n",
    "We will first start with a relatively simple neural network. As mentioned, the network will comprise of fully connected, 1-D hidden layers. The ``Dense()`` layer provided by Keras will be useful here. Documentation for the same can be found [here](https://keras.io/api/layers/core_layers/dense/).<br/><br/>\n",
    "\n",
    "We are now required to pass a 28 x 28 \"square\" data structure (MNIST image) to a vector (hidden layer). These are actually all tensors. More on that here: [ [1](https://www.tensorflow.org/guide/tensor) ], [ [2](https://en.wikipedia.org/wiki/Tensor) ].<br/><br/>\n",
    "\n",
    "This incompatibility can be resolved by flattening the square image into a vector (1-D array), by using the ``Flatten()`` layer in Keras ([documentation](https://keras.io/api/layers/reshaping_layers/flatten/)). This layer simply multiplies the dimensions of an n-dimensional object to get the number of units in the vector. So here, 28*28 will give us 784.<br/><br/>\n",
    "\n",
    "We are also initializing the weights of the neural network ``init = RandomNormal(stddev=0.02)`` to values randomly sampled from a standard normal distribution. This helps with convergence and performance of the network.<br/><br/>\n",
    "\n",
    "The output layer will obviously contain 10 units sice we want our classifier to output probabilities for 10 classes of digits.<br/><br/>\n",
    "\n",
    "A neural network has the tendency to memorize its training data, especially if it contains more than enough capacity. In such cases, the network fails catastrophically when subjected to the test data. This is the classic case of the network failing to generalize. To avoid this tendency, the model uses a regularizing layer or function. A common regularizing layer is ``Dropout()``.<br/><br/>\n",
    "\n",
    "The idea of dropout is simple. Given a dropout rate (passed as an argument), the Dropout layer randomly removes that fraction of units from participating in the next layer. For example, if the first layer has 256 units, after dropout = 0.45 is applied, only (1 - 0.45) * 256 units = 140 units from layer 1 participate in layer 2.<br/><br/>\n",
    "\n",
    "The Dropout layer makes neural networks robust to unforeseen input data because\n",
    "the network is trained to predict correctly, even if some units are missing. It's worth\n",
    "noting that dropout is not used in the output layer and it is only active during\n",
    "training. Moreover, dropout is not present during predictions.<br/><br/>\n",
    "\n",
    "The optimizer \"sgd\" used here is Stochastic Gradient Descent. In SGD, a mini batch of samples is chosen to compute an approximate value of the descent.<br/>\n",
    "\n",
    "**NOTE:** Since optimization is based on differentiation, it follows that an important criterion of the loss function must be for it to be smooth or differentiable. This is an important constraint to keep in mind when introducing a new loss function.<br/><br/>\n",
    "\n",
    "How far the predicted tensor is from the one-hot ground truth vector is called loss. One type of loss function is mean_squared_error (MSE), or the average of the squares of the differences between the target or label and the prediction .<br/>\n",
    " In the current example, we are using **categorical_crossentropy**. It's the negative of the sum of the product of the target or label and the logarithm of the prediction per category."
   ]
  },
  {
   "cell_type": "code",
   "execution_count": 10,
   "metadata": {
    "id": "MfIaujCnmblM"
   },
   "outputs": [],
   "source": [
    "def define_classifier(image_shape):\n",
    "\n",
    "  init = RandomNormal(stddev=0.02)\n",
    "  in_image = Input(shape=image_shape)\n",
    "\n",
    "  c = Flatten()(in_image)\n",
    "\n",
    "  c = Dense(16, activation='relu', kernel_initializer=init)(c)\n",
    "  c = Dropout(0.1)(c)\n",
    "\n",
    "  c = Dense(32, activation='relu', kernel_initializer=init)(c)\n",
    "  c = Dropout(0.1)(c)\n",
    "\n",
    "  c = Dense(64, activation='relu', kernel_initializer=init)(c)\n",
    "  c = Dropout(0.1)(c)\n",
    "\n",
    "  out = Dense(10, activation = 'softmax', kernel_initializer=init)(c)\n",
    "\n",
    "  model = Model(in_image, out)\n",
    "  model.compile(loss='categorical_crossentropy', optimizer='sgd', metrics=['accuracy'])\n",
    "    \n",
    "  return model"
   ]
  },
  {
   "cell_type": "markdown",
   "metadata": {
    "id": "gVhbFBq5YPHL"
   },
   "source": [
    "--------------\n",
    "\n",
    "We finally create the model object by calling the ``define_classifier()`` function, and print out its structure.<br/><br/>\n",
    "\n",
    "Please note the **output shape** of each layer and the **number of parameters**.\n",
    "\n",
    "The \"None\" shown as the first dimension of each output shape tell us that the network is maleable to that dimension and we can pass any value in it. For example in ``[(None, 28, 28, 1)]`` the ``(28, 28, 1)`` represents the image shape and ``None`` here means we can pass any number images at a time. But they have to be reshaped properly (in a tensor)."
   ]
  },
  {
   "cell_type": "code",
   "execution_count": 11,
   "metadata": {
    "colab": {
     "base_uri": "https://localhost:8080/"
    },
    "id": "jNOxSP1Vr_bF",
    "outputId": "e067ac77-62e6-4a61-eb72-c618b5d83f45"
   },
   "outputs": [
    {
     "name": "stdout",
     "output_type": "stream",
     "text": [
      "Model: \"functional_1\"\n",
      "_________________________________________________________________\n",
      "Layer (type)                 Output Shape              Param #   \n",
      "=================================================================\n",
      "input_1 (InputLayer)         [(None, 28, 28, 1)]       0         \n",
      "_________________________________________________________________\n",
      "flatten (Flatten)            (None, 784)               0         \n",
      "_________________________________________________________________\n",
      "dense (Dense)                (None, 16)                12560     \n",
      "_________________________________________________________________\n",
      "dropout (Dropout)            (None, 16)                0         \n",
      "_________________________________________________________________\n",
      "dense_1 (Dense)              (None, 32)                544       \n",
      "_________________________________________________________________\n",
      "dropout_1 (Dropout)          (None, 32)                0         \n",
      "_________________________________________________________________\n",
      "dense_2 (Dense)              (None, 64)                2112      \n",
      "_________________________________________________________________\n",
      "dropout_2 (Dropout)          (None, 64)                0         \n",
      "_________________________________________________________________\n",
      "dense_3 (Dense)              (None, 10)                650       \n",
      "=================================================================\n",
      "Total params: 15,866\n",
      "Trainable params: 15,866\n",
      "Non-trainable params: 0\n",
      "_________________________________________________________________\n"
     ]
    }
   ],
   "source": [
    "model = define_classifier((28,28,1))\n",
    "model.summary()"
   ]
  },
  {
   "cell_type": "markdown",
   "metadata": {
    "id": "ratbTP_paXvc"
   },
   "source": [
    "---------------\n",
    "\n",
    "## <font color='orange'>**Training the model**<font/>\n",
    "\n",
    "We use the model object to call ``fit()`` and pass our normalized training images ``x_train_reg`` and corresponding one-hot encoded labels ``y_train_cat`` as arguments.\n",
    "\n",
    "We train it for 10 **epochs** for now. One Epoch is when an **entire** dataset is passed forward and backward through the neural network only **once**.<br/>\n",
    "Since one epoch is too big to feed to the computer at once we divide it in several smaller batches.<br/><br/>\n",
    "\n",
    "Hence, we pass our dataset in batches of 64, shown by ``batch_size``."
   ]
  },
  {
   "cell_type": "code",
   "execution_count": 12,
   "metadata": {
    "colab": {
     "base_uri": "https://localhost:8080/"
    },
    "id": "kn8XkyDRsOUG",
    "outputId": "4ee996e7-a073-49c2-e6d6-0d75eae81976"
   },
   "outputs": [
    {
     "name": "stdout",
     "output_type": "stream",
     "text": [
      "Epoch 1/10\n",
      "938/938 [==============================] - 1s 548us/step - loss: 2.3018 - accuracy: 0.1121\n",
      "Epoch 2/10\n",
      "938/938 [==============================] - 1s 541us/step - loss: 2.3013 - accuracy: 0.1124\n",
      "Epoch 3/10\n",
      "938/938 [==============================] - 1s 541us/step - loss: 2.3012 - accuracy: 0.1124\n",
      "Epoch 4/10\n",
      "938/938 [==============================] - 1s 540us/step - loss: 2.3011 - accuracy: 0.1124\n",
      "Epoch 5/10\n",
      "938/938 [==============================] - 1s 540us/step - loss: 2.3011 - accuracy: 0.1124\n",
      "Epoch 6/10\n",
      "938/938 [==============================] - 1s 544us/step - loss: 2.3011 - accuracy: 0.1124\n",
      "Epoch 7/10\n",
      "938/938 [==============================] - 1s 543us/step - loss: 2.3010 - accuracy: 0.1124\n",
      "Epoch 8/10\n",
      "938/938 [==============================] - 1s 541us/step - loss: 2.3009 - accuracy: 0.1124\n",
      "Epoch 9/10\n",
      "938/938 [==============================] - 1s 540us/step - loss: 2.3007 - accuracy: 0.1124\n",
      "Epoch 10/10\n",
      "938/938 [==============================] - 1s 543us/step - loss: 2.3002 - accuracy: 0.1124\n"
     ]
    },
    {
     "data": {
      "text/plain": [
       "<tensorflow.python.keras.callbacks.History at 0x26bbff35c40>"
      ]
     },
     "execution_count": 12,
     "metadata": {},
     "output_type": "execute_result"
    }
   ],
   "source": [
    "model.fit(x_train_reg, y_train_cat, epochs=10, batch_size=64)"
   ]
  },
  {
   "cell_type": "markdown",
   "metadata": {
    "id": "tYTLMEqCcPJR"
   },
   "source": [
    "----------------\n",
    "\n",
    "## <font color='orange'>**Welcome to Practical Deep Learning. It's hell, and you're gonna love it.**<font/>\n",
    "\n",
    "Checking the **training** accuracy above, we see that it is **11%**. :(<br/><br>\n",
    "\n",
    "Perhaps our network is not \"deep\" enough i.e., there aren't enough parameters to tune such that our process of classification might be encoded. Let us increase its \"depth\".<br/><br/>\n",
    "\n",
    "Since, our training accuracy is so bad, we won't be testing/evaluating it just yet. Still, for a perspective, the code below calls on the model to predict one single image.<br/>\n",
    "\n",
    "As you see, the image is that of digit '9' but it is classified as '5'."
   ]
  },
  {
   "cell_type": "code",
   "execution_count": 13,
   "metadata": {
    "id": "zN8nTnAAuvFi"
   },
   "outputs": [],
   "source": [
    "# input1 = np.reshape(x_test_reg[7],(1,28,28,1))\n",
    "# out = model.predict(input1)\n",
    "# plt.imshow(x_test_reg[7], cmap='Greys')\n",
    "# print(np.argmin(out))"
   ]
  },
  {
   "cell_type": "markdown",
   "metadata": {
    "id": "bI2KILTeggjG"
   },
   "source": [
    "----------\n",
    "\n",
    "## <font color='orange'>**Mk. 2**<font/>\n",
    "\n",
    "We have added two additional layers of 128 and 256 units each, and increased the corresponding dropout rate, given the increased number of units in the layer.<br/><br/>\n",
    "\n",
    "Let us see how this changes things.\n",
    "\n",
    "Note the increased number of parameters in the model summary."
   ]
  },
  {
   "cell_type": "markdown",
   "metadata": {
    "id": "aRvDgxaffVjA"
   },
   "source": [
    "----------"
   ]
  },
  {
   "cell_type": "code",
   "execution_count": 14,
   "metadata": {
    "id": "ivUCW0JMJal4"
   },
   "outputs": [],
   "source": [
    "def define_classifier(image_shape):\n",
    "\n",
    "  init = RandomNormal(stddev=0.02)\n",
    "  in_image = Input(shape=image_shape)\n",
    "\n",
    "  c = Flatten()(in_image)\n",
    "\n",
    "  c = Dense(32, activation='relu', kernel_initializer=init)(c)\n",
    "  c = Dropout(0.1)(c)\n",
    "\n",
    "  c = Dense(64, activation='relu', kernel_initializer=init)(c)\n",
    "  c = Dropout(0.1)(c)\n",
    "\n",
    "  c = Dense(128, activation='relu', kernel_initializer=init)(c)\n",
    "  c = Dropout(0.2)(c)\n",
    "\n",
    "  c = Dense(256, activation='relu', kernel_initializer=init)(c)\n",
    "  c = Dropout(0.3)(c)\n",
    "\n",
    "  out = Dense(10, activation = 'softmax', kernel_initializer=init)(c)\n",
    "\n",
    "  model = Model(in_image, out)\n",
    "  model.compile(loss='categorical_crossentropy', optimizer='sgd', metrics=['accuracy'])\n",
    "    \n",
    "  return model"
   ]
  },
  {
   "cell_type": "code",
   "execution_count": 15,
   "metadata": {
    "colab": {
     "base_uri": "https://localhost:8080/"
    },
    "id": "_UFdYCSGKEwx",
    "outputId": "bc26ad8f-2949-4abb-bda3-9699eebfd90f"
   },
   "outputs": [
    {
     "name": "stdout",
     "output_type": "stream",
     "text": [
      "Model: \"functional_3\"\n",
      "_________________________________________________________________\n",
      "Layer (type)                 Output Shape              Param #   \n",
      "=================================================================\n",
      "input_2 (InputLayer)         [(None, 28, 28, 1)]       0         \n",
      "_________________________________________________________________\n",
      "flatten_1 (Flatten)          (None, 784)               0         \n",
      "_________________________________________________________________\n",
      "dense_4 (Dense)              (None, 32)                25120     \n",
      "_________________________________________________________________\n",
      "dropout_3 (Dropout)          (None, 32)                0         \n",
      "_________________________________________________________________\n",
      "dense_5 (Dense)              (None, 64)                2112      \n",
      "_________________________________________________________________\n",
      "dropout_4 (Dropout)          (None, 64)                0         \n",
      "_________________________________________________________________\n",
      "dense_6 (Dense)              (None, 128)               8320      \n",
      "_________________________________________________________________\n",
      "dropout_5 (Dropout)          (None, 128)               0         \n",
      "_________________________________________________________________\n",
      "dense_7 (Dense)              (None, 256)               33024     \n",
      "_________________________________________________________________\n",
      "dropout_6 (Dropout)          (None, 256)               0         \n",
      "_________________________________________________________________\n",
      "dense_8 (Dense)              (None, 10)                2570      \n",
      "=================================================================\n",
      "Total params: 71,146\n",
      "Trainable params: 71,146\n",
      "Non-trainable params: 0\n",
      "_________________________________________________________________\n"
     ]
    }
   ],
   "source": [
    "model = define_classifier((28,28,1))\n",
    "model.summary()"
   ]
  },
  {
   "cell_type": "code",
   "execution_count": 16,
   "metadata": {
    "colab": {
     "base_uri": "https://localhost:8080/"
    },
    "id": "zJ8acaqgKFsn",
    "outputId": "cf5b070d-f7d0-41c4-e437-7a5a9fbc2f2c"
   },
   "outputs": [
    {
     "name": "stdout",
     "output_type": "stream",
     "text": [
      "Epoch 1/10\n",
      "938/938 [==============================] - 1s 953us/step - loss: 2.3018 - accuracy: 0.1115\n",
      "Epoch 2/10\n",
      "938/938 [==============================] - 1s 949us/step - loss: 2.3012 - accuracy: 0.1124\n",
      "Epoch 3/10\n",
      "938/938 [==============================] - 1s 956us/step - loss: 2.3012 - accuracy: 0.1124\n",
      "Epoch 4/10\n",
      "938/938 [==============================] - 1s 958us/step - loss: 2.3011 - accuracy: 0.1124\n",
      "Epoch 5/10\n",
      "938/938 [==============================] - 1s 957us/step - loss: 2.3011 - accuracy: 0.1124\n",
      "Epoch 6/10\n",
      "938/938 [==============================] - 1s 958us/step - loss: 2.3011 - accuracy: 0.1124\n",
      "Epoch 7/10\n",
      "938/938 [==============================] - 1s 958us/step - loss: 2.3011 - accuracy: 0.1124\n",
      "Epoch 8/10\n",
      "938/938 [==============================] - 1s 969us/step - loss: 2.3010 - accuracy: 0.1124\n",
      "Epoch 9/10\n",
      "938/938 [==============================] - 1s 986us/step - loss: 2.3010 - accuracy: 0.1124\n",
      "Epoch 10/10\n",
      "938/938 [==============================] - 1s 965us/step - loss: 2.3010 - accuracy: 0.1124\n"
     ]
    },
    {
     "data": {
      "text/plain": [
       "<tensorflow.python.keras.callbacks.History at 0x26bc13db280>"
      ]
     },
     "execution_count": 16,
     "metadata": {},
     "output_type": "execute_result"
    }
   ],
   "source": [
    "model.fit(x_train_reg, y_train_cat, epochs=10, batch_size=64)"
   ]
  },
  {
   "cell_type": "markdown",
   "metadata": {
    "id": "aZRIHhGphqNT"
   },
   "source": [
    "---------------\n",
    "\n",
    "## <font color='orange'>**Mk. 3**<font/>\n",
    "\n",
    "Okay, still bad.<br/><br/>\n",
    "\n",
    "Maybe the model isn't getting enough chances to properly tune itself according to our needs i.e., maybe the model isn't being trained enough.<br/><br/>\n",
    "\n",
    "Let us increase the number of epochs to 20 and see what happens."
   ]
  },
  {
   "cell_type": "code",
   "execution_count": 17,
   "metadata": {
    "colab": {
     "base_uri": "https://localhost:8080/"
    },
    "id": "rZ_z3zN1KKLv",
    "outputId": "e9f6f9ba-639e-4fdb-9323-5808d0763ebe"
   },
   "outputs": [
    {
     "name": "stdout",
     "output_type": "stream",
     "text": [
      "Epoch 1/20\n",
      "938/938 [==============================] - 1s 972us/step - loss: 2.3009 - accuracy: 0.1124\n",
      "Epoch 2/20\n",
      "938/938 [==============================] - 1s 961us/step - loss: 2.3008 - accuracy: 0.1124\n",
      "Epoch 3/20\n",
      "938/938 [==============================] - 1s 957us/step - loss: 2.3006 - accuracy: 0.1124\n",
      "Epoch 4/20\n",
      "938/938 [==============================] - 1s 958us/step - loss: 2.3004 - accuracy: 0.1124\n",
      "Epoch 5/20\n",
      "938/938 [==============================] - 1s 962us/step - loss: 2.3001 - accuracy: 0.1124\n",
      "Epoch 6/20\n",
      "938/938 [==============================] - 1s 963us/step - loss: 2.2993 - accuracy: 0.1124\n",
      "Epoch 7/20\n",
      "938/938 [==============================] - 1s 962us/step - loss: 2.2974 - accuracy: 0.1124\n",
      "Epoch 8/20\n",
      "938/938 [==============================] - 1s 958us/step - loss: 2.2870 - accuracy: 0.1388\n",
      "Epoch 9/20\n",
      "938/938 [==============================] - 1s 958us/step - loss: 2.0966 - accuracy: 0.2130\n",
      "Epoch 10/20\n",
      "938/938 [==============================] - 1s 960us/step - loss: 1.8086 - accuracy: 0.2672\n",
      "Epoch 11/20\n",
      "938/938 [==============================] - 1s 959us/step - loss: 1.6613 - accuracy: 0.3278\n",
      "Epoch 12/20\n",
      "938/938 [==============================] - 1s 961us/step - loss: 1.4170 - accuracy: 0.4699\n",
      "Epoch 13/20\n",
      "938/938 [==============================] - 1s 960us/step - loss: 1.1319 - accuracy: 0.5482\n",
      "Epoch 14/20\n",
      "938/938 [==============================] - 1s 962us/step - loss: 1.0063 - accuracy: 0.6054\n",
      "Epoch 15/20\n",
      "938/938 [==============================] - 1s 961us/step - loss: 0.8985 - accuracy: 0.6751\n",
      "Epoch 16/20\n",
      "938/938 [==============================] - 1s 960us/step - loss: 0.7848 - accuracy: 0.7380\n",
      "Epoch 17/20\n",
      "938/938 [==============================] - 1s 961us/step - loss: 0.6978 - accuracy: 0.7789\n",
      "Epoch 18/20\n",
      "938/938 [==============================] - 1s 962us/step - loss: 0.6266 - accuracy: 0.8144\n",
      "Epoch 19/20\n",
      "938/938 [==============================] - 1s 970us/step - loss: 0.5669 - accuracy: 0.8384\n",
      "Epoch 20/20\n",
      "938/938 [==============================] - 1s 963us/step - loss: 0.5210 - accuracy: 0.8541\n"
     ]
    },
    {
     "data": {
      "text/plain": [
       "<tensorflow.python.keras.callbacks.History at 0x26bc1738d90>"
      ]
     },
     "execution_count": 17,
     "metadata": {},
     "output_type": "execute_result"
    }
   ],
   "source": [
    "# didn't rebuild the model\n",
    "\n",
    "model.fit(x_train_reg, y_train_cat, epochs=20, batch_size=64)"
   ]
  },
  {
   "cell_type": "markdown",
   "metadata": {
    "id": "J0qFLtP9ifzb"
   },
   "source": [
    "--------\n",
    "\n",
    "## <font color='orange'>**Mk. 4**<font/>\n",
    "\n",
    "Alright! Major improvement. A jump from 11% to **86%** accuracy isn't bad.<br/><br/>\n",
    "\n",
    "A keen observer might note here that the accuracy starts improving from the 8th epoch, whereas according to our previous run of the model it should at least remain the same till 10th epoch, since we haven't made any changes to the model architecture.<br/><br/>\n",
    "\n",
    "The reason is that we didn't call ``define_classifier()`` and **rebuild** our model. We called the fit function on the previously trained model itself. This allowed our model to use the knowledge gained from its previous run.<br/>\n",
    "This is just something to note, you don't **have** to do this.\n",
    "\n",
    "-----------\n",
    "\n",
    "Okay, let's try to improve the accuracy even further. Maybe the depth is still an issue.<br/>\n",
    " We add another layer of 256 units."
   ]
  },
  {
   "cell_type": "code",
   "execution_count": 18,
   "metadata": {
    "id": "Dznq6so9KapK"
   },
   "outputs": [],
   "source": [
    "def define_classifier(image_shape):\n",
    "\n",
    "  init = RandomNormal(stddev=0.02)\n",
    "  in_image = Input(shape=image_shape)\n",
    "\n",
    "  c = Flatten()(in_image)\n",
    "\n",
    "  c = Dense(32, activation='relu', kernel_initializer=init)(c)\n",
    "  c = Dropout(0.1)(c)\n",
    "\n",
    "  c = Dense(64, activation='relu', kernel_initializer=init)(c)\n",
    "  c = Dropout(0.1)(c)\n",
    "\n",
    "  c = Dense(128, activation='relu', kernel_initializer=init)(c)\n",
    "  c = Dropout(0.2)(c)\n",
    "\n",
    "  c = Dense(256, activation='relu', kernel_initializer=init)(c)\n",
    "  c = Dropout(0.3)(c)\n",
    "\n",
    "  c = Dense(256, activation='relu', kernel_initializer=init)(c)\n",
    "  c = Dropout(0.4)(c)\n",
    "\n",
    "  out = Dense(10, activation = 'softmax', kernel_initializer=init)(c)\n",
    "\n",
    "  model = Model(in_image, out)\n",
    "  model.compile(loss='categorical_crossentropy', optimizer='sgd', metrics=['accuracy'])\n",
    "    \n",
    "  return model"
   ]
  },
  {
   "cell_type": "code",
   "execution_count": 19,
   "metadata": {
    "colab": {
     "base_uri": "https://localhost:8080/"
    },
    "id": "-fd2_CV2K9rO",
    "outputId": "8323aeb6-7cab-4e43-f97e-bbba9c83d88b"
   },
   "outputs": [
    {
     "name": "stdout",
     "output_type": "stream",
     "text": [
      "Model: \"functional_5\"\n",
      "_________________________________________________________________\n",
      "Layer (type)                 Output Shape              Param #   \n",
      "=================================================================\n",
      "input_3 (InputLayer)         [(None, 28, 28, 1)]       0         \n",
      "_________________________________________________________________\n",
      "flatten_2 (Flatten)          (None, 784)               0         \n",
      "_________________________________________________________________\n",
      "dense_9 (Dense)              (None, 32)                25120     \n",
      "_________________________________________________________________\n",
      "dropout_7 (Dropout)          (None, 32)                0         \n",
      "_________________________________________________________________\n",
      "dense_10 (Dense)             (None, 64)                2112      \n",
      "_________________________________________________________________\n",
      "dropout_8 (Dropout)          (None, 64)                0         \n",
      "_________________________________________________________________\n",
      "dense_11 (Dense)             (None, 128)               8320      \n",
      "_________________________________________________________________\n",
      "dropout_9 (Dropout)          (None, 128)               0         \n",
      "_________________________________________________________________\n",
      "dense_12 (Dense)             (None, 256)               33024     \n",
      "_________________________________________________________________\n",
      "dropout_10 (Dropout)         (None, 256)               0         \n",
      "_________________________________________________________________\n",
      "dense_13 (Dense)             (None, 256)               65792     \n",
      "_________________________________________________________________\n",
      "dropout_11 (Dropout)         (None, 256)               0         \n",
      "_________________________________________________________________\n",
      "dense_14 (Dense)             (None, 10)                2570      \n",
      "=================================================================\n",
      "Total params: 136,938\n",
      "Trainable params: 136,938\n",
      "Non-trainable params: 0\n",
      "_________________________________________________________________\n"
     ]
    }
   ],
   "source": [
    "model = define_classifier((28,28,1))\n",
    "model.summary()"
   ]
  },
  {
   "cell_type": "code",
   "execution_count": 20,
   "metadata": {
    "colab": {
     "base_uri": "https://localhost:8080/"
    },
    "id": "H5miYLrrK-cV",
    "outputId": "f615e826-0f87-4a73-cfb3-87f7cc3b743b"
   },
   "outputs": [
    {
     "name": "stdout",
     "output_type": "stream",
     "text": [
      "Epoch 1/20\n",
      "938/938 [==============================] - 1s 1ms/step - loss: 2.3018 - accuracy: 0.1116\n",
      "Epoch 2/20\n",
      "938/938 [==============================] - 1s 1ms/step - loss: 2.3013 - accuracy: 0.1124\n",
      "Epoch 3/20\n",
      "938/938 [==============================] - 1s 1ms/step - loss: 2.3012 - accuracy: 0.1124\n",
      "Epoch 4/20\n",
      "938/938 [==============================] - 1s 1ms/step - loss: 2.3012 - accuracy: 0.1124\n",
      "Epoch 5/20\n",
      "938/938 [==============================] - 1s 1ms/step - loss: 2.3012 - accuracy: 0.1124\n",
      "Epoch 6/20\n",
      "938/938 [==============================] - 1s 1ms/step - loss: 2.3012 - accuracy: 0.1124\n",
      "Epoch 7/20\n",
      "938/938 [==============================] - 1s 1ms/step - loss: 2.3012 - accuracy: 0.1124\n",
      "Epoch 8/20\n",
      "938/938 [==============================] - 1s 1ms/step - loss: 2.3012 - accuracy: 0.1124\n",
      "Epoch 9/20\n",
      "938/938 [==============================] - 1s 1ms/step - loss: 2.3012 - accuracy: 0.1124\n",
      "Epoch 10/20\n",
      "938/938 [==============================] - 1s 1ms/step - loss: 2.3012 - accuracy: 0.1124\n",
      "Epoch 11/20\n",
      "938/938 [==============================] - 1s 1ms/step - loss: 2.3012 - accuracy: 0.1124\n",
      "Epoch 12/20\n",
      "938/938 [==============================] - 1s 1ms/step - loss: 2.3012 - accuracy: 0.1124\n",
      "Epoch 13/20\n",
      "938/938 [==============================] - 1s 1ms/step - loss: 2.3012 - accuracy: 0.1124\n",
      "Epoch 14/20\n",
      "938/938 [==============================] - 1s 1ms/step - loss: 2.3012 - accuracy: 0.1124\n",
      "Epoch 15/20\n",
      "938/938 [==============================] - 1s 1ms/step - loss: 2.3012 - accuracy: 0.1124\n",
      "Epoch 16/20\n",
      "938/938 [==============================] - 1s 1ms/step - loss: 2.3012 - accuracy: 0.1124\n",
      "Epoch 17/20\n",
      "938/938 [==============================] - 1s 1ms/step - loss: 2.3012 - accuracy: 0.1124\n",
      "Epoch 18/20\n",
      "938/938 [==============================] - 1s 1ms/step - loss: 2.3012 - accuracy: 0.1124\n",
      "Epoch 19/20\n",
      "938/938 [==============================] - 1s 1ms/step - loss: 2.3012 - accuracy: 0.1124\n",
      "Epoch 20/20\n",
      "938/938 [==============================] - 1s 1ms/step - loss: 2.3012 - accuracy: 0.1124\n"
     ]
    },
    {
     "data": {
      "text/plain": [
       "<tensorflow.python.keras.callbacks.History at 0x26bc18566d0>"
      ]
     },
     "execution_count": 20,
     "metadata": {},
     "output_type": "execute_result"
    }
   ],
   "source": [
    "model.fit(x_train_reg, y_train_cat, epochs=20, batch_size=64)"
   ]
  },
  {
   "cell_type": "markdown",
   "metadata": {
    "id": "BnJLrYb_luRC"
   },
   "source": [
    "------------\n",
    "\n",
    "## <font color='orange'>**Mk. 5**<font/>\n",
    "\n",
    "Bad choice. Our accuracy has dropped again.<br/><br/>\n",
    "\n",
    "We can't really say what the reason is here. Because as per our previous experience, increasing the model capacity shouldn't harm the model in this way.<br/>\n",
    "\n",
    " Maybe we made the model overly complex and it **failed to converge**? We need to investigate this behaviour. Re-build the model and train it multiple times to check if the optimizer isn't the problem<br/><br/>\n",
    "\n",
    " Let's keep the architecture as it is, and change the optimizer from SGD to Adam (adaptive Moments). More on it [here](https://arxiv.org/abs/1412.6980)."
   ]
  },
  {
   "cell_type": "code",
   "execution_count": 21,
   "metadata": {
    "id": "mKr7NhGkLDid"
   },
   "outputs": [],
   "source": [
    "def define_classifier(image_shape):\n",
    "\n",
    "  init = RandomNormal(stddev=0.02)\n",
    "  in_image = Input(shape=image_shape)\n",
    "\n",
    "  c = Flatten()(in_image)\n",
    "\n",
    "  c = Dense(32, activation='relu', kernel_initializer=init)(c)\n",
    "  c = Dropout(0.1)(c)\n",
    "\n",
    "  c = Dense(64, activation='relu', kernel_initializer=init)(c)\n",
    "  c = Dropout(0.1)(c)\n",
    "\n",
    "  c = Dense(128, activation='relu', kernel_initializer=init)(c)\n",
    "  c = Dropout(0.2)(c)\n",
    "\n",
    "  c = Dense(256, activation='relu', kernel_initializer=init)(c)\n",
    "  c = Dropout(0.3)(c)\n",
    "\n",
    "  c = Dense(256, activation='relu', kernel_initializer=init)(c)\n",
    "  c = Dropout(0.4)(c)\n",
    "\n",
    "  out = Dense(10, activation = 'softmax', kernel_initializer=init)(c)\n",
    "\n",
    "  model = Model(in_image, out)\n",
    "  model.compile(loss='categorical_crossentropy', optimizer='adam', metrics=['accuracy'])\n",
    "    \n",
    "  return model"
   ]
  },
  {
   "cell_type": "code",
   "execution_count": 22,
   "metadata": {
    "id": "cusa-53VL-Jb"
   },
   "outputs": [],
   "source": [
    "model = define_classifier((28,28,1))"
   ]
  },
  {
   "cell_type": "code",
   "execution_count": 23,
   "metadata": {
    "colab": {
     "base_uri": "https://localhost:8080/"
    },
    "id": "rdKYRaqIMCPl",
    "outputId": "16806167-f9a4-43d8-afb7-001e014e5853"
   },
   "outputs": [
    {
     "name": "stdout",
     "output_type": "stream",
     "text": [
      "Epoch 1/20\n",
      "938/938 [==============================] - 1s 1ms/step - loss: 0.8193 - accuracy: 0.7165\n",
      "Epoch 2/20\n",
      "938/938 [==============================] - 1s 1ms/step - loss: 0.3661 - accuracy: 0.8981\n",
      "Epoch 3/20\n",
      "938/938 [==============================] - 1s 1ms/step - loss: 0.3013 - accuracy: 0.9175\n",
      "Epoch 4/20\n",
      "938/938 [==============================] - 1s 1ms/step - loss: 0.2661 - accuracy: 0.9281\n",
      "Epoch 5/20\n",
      "938/938 [==============================] - 1s 1ms/step - loss: 0.2386 - accuracy: 0.9358\n",
      "Epoch 6/20\n",
      "938/938 [==============================] - 1s 1ms/step - loss: 0.2234 - accuracy: 0.9392\n",
      "Epoch 7/20\n",
      "938/938 [==============================] - 1s 1ms/step - loss: 0.2052 - accuracy: 0.9436\n",
      "Epoch 8/20\n",
      "938/938 [==============================] - 1s 1ms/step - loss: 0.1944 - accuracy: 0.9467\n",
      "Epoch 9/20\n",
      "938/938 [==============================] - 1s 1ms/step - loss: 0.1859 - accuracy: 0.9478\n",
      "Epoch 10/20\n",
      "938/938 [==============================] - 1s 1ms/step - loss: 0.1731 - accuracy: 0.9516\n",
      "Epoch 11/20\n",
      "938/938 [==============================] - 1s 1ms/step - loss: 0.1709 - accuracy: 0.9525\n",
      "Epoch 12/20\n",
      "938/938 [==============================] - 1s 1ms/step - loss: 0.1612 - accuracy: 0.9556\n",
      "Epoch 13/20\n",
      "938/938 [==============================] - 1s 1ms/step - loss: 0.1554 - accuracy: 0.9560\n",
      "Epoch 14/20\n",
      "938/938 [==============================] - 1s 1ms/step - loss: 0.1525 - accuracy: 0.9567\n",
      "Epoch 15/20\n",
      "938/938 [==============================] - 1s 1ms/step - loss: 0.1490 - accuracy: 0.9583\n",
      "Epoch 16/20\n",
      "938/938 [==============================] - 1s 1ms/step - loss: 0.1458 - accuracy: 0.9587\n",
      "Epoch 17/20\n",
      "938/938 [==============================] - 1s 1ms/step - loss: 0.1438 - accuracy: 0.9599\n",
      "Epoch 18/20\n",
      "938/938 [==============================] - 1s 1ms/step - loss: 0.1417 - accuracy: 0.9597\n",
      "Epoch 19/20\n",
      "938/938 [==============================] - 1s 1ms/step - loss: 0.1345 - accuracy: 0.9622\n",
      "Epoch 20/20\n",
      "938/938 [==============================] - 1s 1ms/step - loss: 0.1354 - accuracy: 0.9609\n"
     ]
    },
    {
     "data": {
      "text/plain": [
       "<tensorflow.python.keras.callbacks.History at 0x26bc4ab97f0>"
      ]
     },
     "execution_count": 23,
     "metadata": {},
     "output_type": "execute_result"
    }
   ],
   "source": [
    "model.fit(x_train_reg, y_train_cat, epochs=20, batch_size=64)"
   ]
  },
  {
   "cell_type": "markdown",
   "metadata": {
    "id": "gGVuSsRRnON2"
   },
   "source": [
    "--------------\n",
    "\n",
    "Okay! The accuracy has increased in a major way, and right from the 2nd epoch.<br/>\n",
    "You might want to take some time here (not during the lecture :D) to think on why the change to Adam optimizer affected the model this much. Please keep in mind our previous attempts too.<br/><br/>\n",
    "\n",
    "Alright, with **96%** training accuracy, our model is good enough to test. We need to see if it has **overfitted** on our training data or not.\n",
    "\n",
    "----------\n",
    "\n",
    "``model.evaluate`` here does the testing for us. We need to pass our test images ``x_test_reg`` and corresponding labels ``y_test_cat`` as arguments. It will return a list with loss and accuracy values."
   ]
  },
  {
   "cell_type": "code",
   "execution_count": 24,
   "metadata": {
    "colab": {
     "base_uri": "https://localhost:8080/"
    },
    "id": "5KL0p3kCMEh1",
    "outputId": "bf225940-f4cc-4701-f495-910813e4c2c7"
   },
   "outputs": [
    {
     "name": "stdout",
     "output_type": "stream",
     "text": [
      "Test loss: 0.12827998399734497\n",
      "Test accuracy: 0.96670001745224\n"
     ]
    }
   ],
   "source": [
    "score = model.evaluate(x_test_reg, y_test_cat, verbose=0)\n",
    "print(\"Test loss:\", score[0])\n",
    "print(\"Test accuracy:\", score[1])"
   ]
  },
  {
   "cell_type": "markdown",
   "metadata": {
    "id": "UQ7mlthwpN2C"
   },
   "source": [
    "-----------\n",
    "\n",
    "Testing accuracy is the same as training accuracy, **96%**. Nice!"
   ]
  },
  {
   "cell_type": "markdown",
   "metadata": {
    "id": "WdC2c_nepkdR"
   },
   "source": [
    "-------------\n",
    "\n",
    "## <font color='orange'>**Mk. 6**<font/>\n",
    "\n",
    "We haven't checked what chaning the ``batch_size`` does to our model. Let's try that and increase the size to 128.<br/>\n",
    "The batch size is recommended to be a power of 2 for GPU\n",
    "optimization purposes."
   ]
  },
  {
   "cell_type": "code",
   "execution_count": 25,
   "metadata": {
    "colab": {
     "base_uri": "https://localhost:8080/"
    },
    "id": "CvidNYarMsk9",
    "outputId": "3709841a-c971-446e-9278-2b4412303d33"
   },
   "outputs": [
    {
     "name": "stdout",
     "output_type": "stream",
     "text": [
      "Epoch 1/20\n",
      "469/469 [==============================] - 1s 2ms/step - loss: 1.1359 - accuracy: 0.5745\n",
      "Epoch 2/20\n",
      "469/469 [==============================] - 1s 2ms/step - loss: 0.3945 - accuracy: 0.8924\n",
      "Epoch 3/20\n",
      "469/469 [==============================] - 1s 2ms/step - loss: 0.2867 - accuracy: 0.9216\n",
      "Epoch 4/20\n",
      "469/469 [==============================] - 1s 2ms/step - loss: 0.2420 - accuracy: 0.9351\n",
      "Epoch 5/20\n",
      "469/469 [==============================] - 1s 2ms/step - loss: 0.2154 - accuracy: 0.9417\n",
      "Epoch 6/20\n",
      "469/469 [==============================] - 1s 2ms/step - loss: 0.1989 - accuracy: 0.9455\n",
      "Epoch 7/20\n",
      "469/469 [==============================] - 1s 2ms/step - loss: 0.1848 - accuracy: 0.9493\n",
      "Epoch 8/20\n",
      "469/469 [==============================] - 1s 2ms/step - loss: 0.1776 - accuracy: 0.9508\n",
      "Epoch 9/20\n",
      "469/469 [==============================] - 1s 2ms/step - loss: 0.1679 - accuracy: 0.9536\n",
      "Epoch 10/20\n",
      "469/469 [==============================] - 1s 2ms/step - loss: 0.1634 - accuracy: 0.9557\n",
      "Epoch 11/20\n",
      "469/469 [==============================] - 1s 2ms/step - loss: 0.1557 - accuracy: 0.9567\n",
      "Epoch 12/20\n",
      "469/469 [==============================] - 1s 2ms/step - loss: 0.1514 - accuracy: 0.9589\n",
      "Epoch 13/20\n",
      "469/469 [==============================] - 1s 2ms/step - loss: 0.1429 - accuracy: 0.9601\n",
      "Epoch 14/20\n",
      "469/469 [==============================] - 1s 2ms/step - loss: 0.1409 - accuracy: 0.9607\n",
      "Epoch 15/20\n",
      "469/469 [==============================] - 1s 2ms/step - loss: 0.1357 - accuracy: 0.9616\n",
      "Epoch 16/20\n",
      "469/469 [==============================] - 1s 2ms/step - loss: 0.1369 - accuracy: 0.9607\n",
      "Epoch 17/20\n",
      "469/469 [==============================] - 1s 2ms/step - loss: 0.1308 - accuracy: 0.9630\n",
      "Epoch 18/20\n",
      "469/469 [==============================] - 1s 2ms/step - loss: 0.1231 - accuracy: 0.9652\n",
      "Epoch 19/20\n",
      "469/469 [==============================] - 1s 2ms/step - loss: 0.1267 - accuracy: 0.9651\n",
      "Epoch 20/20\n",
      "469/469 [==============================] - 1s 2ms/step - loss: 0.1237 - accuracy: 0.9651\n"
     ]
    },
    {
     "data": {
      "text/plain": [
       "<tensorflow.python.keras.callbacks.History at 0x26bc60ceee0>"
      ]
     },
     "execution_count": 25,
     "metadata": {},
     "output_type": "execute_result"
    }
   ],
   "source": [
    "model = define_classifier((28,28,1))\n",
    "model.fit(x_train_reg, y_train_cat, epochs=20, batch_size=128)"
   ]
  },
  {
   "cell_type": "markdown",
   "metadata": {
    "id": "k0oSfZe9qDMg"
   },
   "source": [
    "------------\n",
    "\n",
    "## <font color='orange'>**Mk. 7**<font/>\n",
    "\n",
    "Okay, not that much change. It's actually starting to decrease the accuracy.<br/>\n",
    "More on that [here](https://stats.stackexchange.com/questions/164876/what-is-the-trade-off-between-batch-size-and-number-of-iterations-to-train-a-neu).<br/><br/>\n",
    "\n",
    "Let us increase the depth of our model even further. Since our optimizer choice was so good, we are hoping it can handle a model of increased depth.<br/>\n",
    "\n",
    "We add another layer of 512 units."
   ]
  },
  {
   "cell_type": "code",
   "execution_count": 26,
   "metadata": {
    "id": "wMVdfdyYPS9F"
   },
   "outputs": [],
   "source": [
    "def define_classifier(image_shape):\n",
    "\n",
    "  init = RandomNormal(stddev=0.02)\n",
    "  in_image = Input(shape=image_shape)\n",
    "\n",
    "  c = Flatten()(in_image)\n",
    "\n",
    "  c = Dense(64, activation='relu', kernel_initializer=init)(c)\n",
    "  c = Dropout(0.1)(c)\n",
    "\n",
    "  c = Dense(128, activation='relu', kernel_initializer=init)(c)\n",
    "  c = Dropout(0.1)(c)\n",
    "\n",
    "  c = Dense(256, activation='relu', kernel_initializer=init)(c)\n",
    "  c = Dropout(0.3)(c)\n",
    "\n",
    "  c = Dense(256, activation='relu', kernel_initializer=init)(c)\n",
    "  c = Dropout(0.3)(c)\n",
    "\n",
    "  c = Dense(512, activation='relu', kernel_initializer=init)(c)\n",
    "  c = Dropout(0.4)(c)\n",
    "\n",
    "  out = Dense(10, activation = 'softmax', kernel_initializer=init)(c)\n",
    "\n",
    "  model = Model(in_image, out)\n",
    "  model.compile(loss='categorical_crossentropy', optimizer='adam', metrics=['accuracy'])\n",
    "    \n",
    "  return model"
   ]
  },
  {
   "cell_type": "code",
   "execution_count": 27,
   "metadata": {
    "colab": {
     "base_uri": "https://localhost:8080/"
    },
    "id": "4zAROySlQzM3",
    "outputId": "9850aafb-82ba-438b-d120-3a5bfec2934e"
   },
   "outputs": [
    {
     "name": "stdout",
     "output_type": "stream",
     "text": [
      "Model: \"functional_11\"\n",
      "_________________________________________________________________\n",
      "Layer (type)                 Output Shape              Param #   \n",
      "=================================================================\n",
      "input_6 (InputLayer)         [(None, 28, 28, 1)]       0         \n",
      "_________________________________________________________________\n",
      "flatten_5 (Flatten)          (None, 784)               0         \n",
      "_________________________________________________________________\n",
      "dense_27 (Dense)             (None, 64)                50240     \n",
      "_________________________________________________________________\n",
      "dropout_22 (Dropout)         (None, 64)                0         \n",
      "_________________________________________________________________\n",
      "dense_28 (Dense)             (None, 128)               8320      \n",
      "_________________________________________________________________\n",
      "dropout_23 (Dropout)         (None, 128)               0         \n",
      "_________________________________________________________________\n",
      "dense_29 (Dense)             (None, 256)               33024     \n",
      "_________________________________________________________________\n",
      "dropout_24 (Dropout)         (None, 256)               0         \n",
      "_________________________________________________________________\n",
      "dense_30 (Dense)             (None, 256)               65792     \n",
      "_________________________________________________________________\n",
      "dropout_25 (Dropout)         (None, 256)               0         \n",
      "_________________________________________________________________\n",
      "dense_31 (Dense)             (None, 512)               131584    \n",
      "_________________________________________________________________\n",
      "dropout_26 (Dropout)         (None, 512)               0         \n",
      "_________________________________________________________________\n",
      "dense_32 (Dense)             (None, 10)                5130      \n",
      "=================================================================\n",
      "Total params: 294,090\n",
      "Trainable params: 294,090\n",
      "Non-trainable params: 0\n",
      "_________________________________________________________________\n"
     ]
    }
   ],
   "source": [
    "model = define_classifier((28,28,1))\n",
    "model.summary()"
   ]
  },
  {
   "cell_type": "code",
   "execution_count": 28,
   "metadata": {
    "colab": {
     "base_uri": "https://localhost:8080/"
    },
    "id": "s1SP-ZNJQ28C",
    "outputId": "a0c4db03-3cb3-4296-cb82-2b81c22853ef"
   },
   "outputs": [
    {
     "name": "stdout",
     "output_type": "stream",
     "text": [
      "Epoch 1/20\n",
      "938/938 [==============================] - 2s 2ms/step - loss: 0.6037 - accuracy: 0.7937\n",
      "Epoch 2/20\n",
      "938/938 [==============================] - 2s 2ms/step - loss: 0.2268 - accuracy: 0.9398\n",
      "Epoch 3/20\n",
      "938/938 [==============================] - 2s 2ms/step - loss: 0.1828 - accuracy: 0.9510\n",
      "Epoch 4/20\n",
      "938/938 [==============================] - 2s 2ms/step - loss: 0.1611 - accuracy: 0.9574\n",
      "Epoch 5/20\n",
      "938/938 [==============================] - 2s 2ms/step - loss: 0.1400 - accuracy: 0.9625\n",
      "Epoch 6/20\n",
      "938/938 [==============================] - 2s 2ms/step - loss: 0.1287 - accuracy: 0.9657\n",
      "Epoch 7/20\n",
      "938/938 [==============================] - 2s 2ms/step - loss: 0.1165 - accuracy: 0.9671\n",
      "Epoch 8/20\n",
      "938/938 [==============================] - 2s 2ms/step - loss: 0.1108 - accuracy: 0.9695\n",
      "Epoch 9/20\n",
      "938/938 [==============================] - 2s 2ms/step - loss: 0.1061 - accuracy: 0.9713\n",
      "Epoch 10/20\n",
      "938/938 [==============================] - 2s 2ms/step - loss: 0.0976 - accuracy: 0.9728\n",
      "Epoch 11/20\n",
      "938/938 [==============================] - 2s 2ms/step - loss: 0.0927 - accuracy: 0.9741\n",
      "Epoch 12/20\n",
      "938/938 [==============================] - 2s 2ms/step - loss: 0.0871 - accuracy: 0.9754\n",
      "Epoch 13/20\n",
      "938/938 [==============================] - 2s 2ms/step - loss: 0.0859 - accuracy: 0.9761\n",
      "Epoch 14/20\n",
      "938/938 [==============================] - 2s 2ms/step - loss: 0.0807 - accuracy: 0.9774\n",
      "Epoch 15/20\n",
      "938/938 [==============================] - 2s 2ms/step - loss: 0.0783 - accuracy: 0.9779\n",
      "Epoch 16/20\n",
      "938/938 [==============================] - 2s 2ms/step - loss: 0.0764 - accuracy: 0.9789\n",
      "Epoch 17/20\n",
      "938/938 [==============================] - 2s 2ms/step - loss: 0.0745 - accuracy: 0.9799\n",
      "Epoch 18/20\n",
      "938/938 [==============================] - 2s 2ms/step - loss: 0.0721 - accuracy: 0.9795\n",
      "Epoch 19/20\n",
      "938/938 [==============================] - 2s 2ms/step - loss: 0.0706 - accuracy: 0.9799\n",
      "Epoch 20/20\n",
      "938/938 [==============================] - 2s 2ms/step - loss: 0.0673 - accuracy: 0.9811\n"
     ]
    },
    {
     "data": {
      "text/plain": [
       "<tensorflow.python.keras.callbacks.History at 0x26bc75b9a00>"
      ]
     },
     "execution_count": 28,
     "metadata": {},
     "output_type": "execute_result"
    }
   ],
   "source": [
    "# bigger not always better. > train time. try to increase compactness\n",
    "\n",
    "model.fit(x_train_reg, y_train_cat, epochs=20, batch_size=64)"
   ]
  },
  {
   "cell_type": "markdown",
   "metadata": {
    "id": "uYVnfJ7rrA2Y"
   },
   "source": [
    "---------\n",
    "\n",
    "Okay, we have pushed it beyond **98%**.<br/>\n",
    "You might be starting to notice the increased training time now."
   ]
  },
  {
   "cell_type": "code",
   "execution_count": 29,
   "metadata": {
    "colab": {
     "base_uri": "https://localhost:8080/"
    },
    "id": "XZ-sTyiZRGZd",
    "outputId": "356e02ac-18af-485c-b3e2-259bbdd24a62"
   },
   "outputs": [
    {
     "name": "stdout",
     "output_type": "stream",
     "text": [
      "Test loss: 0.11276479810476303\n",
      "Test accuracy: 0.9751999974250793\n"
     ]
    }
   ],
   "source": [
    "score = model.evaluate(x_test_reg, y_test_cat, verbose=0)\n",
    "print(\"Test loss:\", score[0])\n",
    "print(\"Test accuracy:\", score[1])"
   ]
  },
  {
   "cell_type": "markdown",
   "metadata": {
    "id": "n3CQ20dnrVz8"
   },
   "source": [
    "-----------\n",
    "\n",
    "## <font color='orange'>**Points to Note**<font/>\n",
    "\n",
    "Test accuracy has decreased a bit but our model is good enough.<br/>\n",
    "Please note, that a deeper model might not always be the best idea. It depends on the scenario really.<br/><br/>\n",
    "For a nominal percentage increase in accuracy in an image model, building a model that takes twice as long to train is not a good trade-off.<br/>\n",
    "This small percentage will have no consequence in production in case of image classification or recognition models.<br/>\n",
    "However, a small percentage increase in an ML model used in the financial sector, may equal to millions in revenue.<br/><br/>\n",
    "Evaluate your data and scenario and choose your architecture wisely."
   ]
  },
  {
   "cell_type": "markdown",
   "metadata": {
    "id": "KKq-Y9Y6s0BL"
   },
   "source": [
    "-------------\n",
    "\n",
    "## <font color='orange'>**Blind Run**<font/>\n",
    "\n",
    "Let us now train the same model on a completely new dataset and see how it performs.<br/>\n",
    "**We are not going to fine-tune our model here. This is just to see how it holds up against images with increased complexity.**"
   ]
  },
  {
   "cell_type": "markdown",
   "metadata": {
    "id": "41s8UFZntdmZ"
   },
   "source": [
    "------------\n",
    "\n",
    "# <font color='orange'>**Fashion MNIST Dataset**<font/>\n",
    "\n",
    "This is a dataset of 60,000 28x28 grayscale images of 10 fashion categories, along with a test set of 10,000 images.\n",
    "\n",
    "(Label, \tDescription)<br/>\n",
    "(0, \tT-shirt/top)\n",
    "(1, \tTrouser)\n",
    "(2, \tPullover)\n",
    "(3, \tDress)\n",
    "(4, \tCoat)\n",
    "(5, \tSandal)\n",
    "(6, \tShirt)\n",
    "(7, \tSneaker)\n",
    "(8, \tBag)\n",
    "(9, \tAnkle boot)"
   ]
  },
  {
   "cell_type": "code",
   "execution_count": 30,
   "metadata": {
    "id": "e9uu5wL3R4WJ"
   },
   "outputs": [],
   "source": [
    "from tensorflow.keras.datasets import fashion_mnist"
   ]
  },
  {
   "cell_type": "code",
   "execution_count": 31,
   "metadata": {
    "colab": {
     "base_uri": "https://localhost:8080/"
    },
    "id": "PURjJ0xKS9Qw",
    "outputId": "16ed97b4-eb7e-47d3-e48f-b1f389be45f9"
   },
   "outputs": [
    {
     "name": "stdout",
     "output_type": "stream",
     "text": [
      "Downloading data from https://storage.googleapis.com/tensorflow/tf-keras-datasets/train-labels-idx1-ubyte.gz\n",
      "32768/29515 [=================================] - 0s 1us/step\n",
      "Downloading data from https://storage.googleapis.com/tensorflow/tf-keras-datasets/train-images-idx3-ubyte.gz\n",
      "26427392/26421880 [==============================] - 2s 0us/step\n",
      "Downloading data from https://storage.googleapis.com/tensorflow/tf-keras-datasets/t10k-labels-idx1-ubyte.gz\n",
      "8192/5148 [===============================================] - 0s 0us/step\n",
      "Downloading data from https://storage.googleapis.com/tensorflow/tf-keras-datasets/t10k-images-idx3-ubyte.gz\n",
      "4423680/4422102 [==============================] - 1s 0us/step\n",
      "(60000, 28, 28) (10000, 28, 28)\n"
     ]
    }
   ],
   "source": [
    "(x_train, y_train), (x_test, y_test) = fashion_mnist.load_data()\n",
    "print(x_train.shape, x_test.shape)"
   ]
  },
  {
   "cell_type": "code",
   "execution_count": 32,
   "metadata": {
    "colab": {
     "base_uri": "https://localhost:8080/",
     "height": 157
    },
    "id": "pa0dQ-LKTDM4",
    "outputId": "da6873a4-4978-490c-8fee-327522ce52ee"
   },
   "outputs": [
    {
     "name": "stdout",
     "output_type": "stream",
     "text": [
      "9\n"
     ]
    },
    {
     "data": {
      "image/png": "[encoded data removed]",
      "text/plain": [
       "<Figure size 144x144 with 1 Axes>"
      ]
     },
     "metadata": {
      "needs_background": "light"
     },
     "output_type": "display_data"
    }
   ],
   "source": [
    "plt.figure(figsize=(2,2))   # 2 X 2 inches, 1 inch ~ 80 pixels\n",
    "plt.axis(\"off\")\n",
    "plt.imshow(x_train[0], cmap='Greys')\n",
    "print(y_train[0])"
   ]
  },
  {
   "cell_type": "markdown",
   "metadata": {
    "id": "WbT_TPgzuZHu"
   },
   "source": [
    "--------------\n",
    "\n",
    "As you can see from the sample image above, it is noticeably more complex than an image of a handwritten digit.\n",
    "\n",
    "-----------"
   ]
  },
  {
   "cell_type": "code",
   "execution_count": 33,
   "metadata": {
    "colab": {
     "base_uri": "https://localhost:8080/",
     "height": 387
    },
    "id": "QPnBpSnMTTIg",
    "outputId": "c477560e-f911-433b-8bf5-672c078edcd0"
   },
   "outputs": [
    {
     "data": {
      "text/plain": [
       "(array([6000., 6000., 6000., 6000., 6000., 6000., 6000., 6000., 6000.,\n",
       "        6000.]),\n",
       " array([0. , 0.9, 1.8, 2.7, 3.6, 4.5, 5.4, 6.3, 7.2, 8.1, 9. ]),\n",
       " <BarContainer object of 10 artists>)"
      ]
     },
     "execution_count": 33,
     "metadata": {},
     "output_type": "execute_result"
    },
    {
     "data": {
      "image/png": "[encoded data removed]",
      "text/plain": [
       "<Figure size 720x360 with 1 Axes>"
      ]
     },
     "metadata": {
      "needs_background": "light"
     },
     "output_type": "display_data"
    }
   ],
   "source": [
    "# check even distribution\n",
    "\n",
    "plt.figure(figsize=(10,5))\n",
    "plt.hist(y_train, edgecolor='white', linewidth=2)"
   ]
  },
  {
   "cell_type": "code",
   "execution_count": 34,
   "metadata": {
    "id": "CuIep0DATaRA"
   },
   "outputs": [],
   "source": [
    "# one-hot encoding and normalization\n",
    "\n",
    "y_train_cat = to_categorical(y_train)\n",
    "y_test_cat = to_categorical(y_test)\n",
    "x_train_reg = x_train.astype('float32') / 255.0\n",
    "x_test_reg = x_test.astype('float32') / 255.0"
   ]
  },
  {
   "cell_type": "code",
   "execution_count": 35,
   "metadata": {
    "colab": {
     "base_uri": "https://localhost:8080/"
    },
    "id": "g7ni6KuJTnLT",
    "outputId": "74fd05e5-caad-4140-a0d2-e5f9c86f214e"
   },
   "outputs": [
    {
     "name": "stdout",
     "output_type": "stream",
     "text": [
      "Epoch 1/20\n",
      "938/938 [==============================] - 2s 2ms/step - loss: 0.8331 - accuracy: 0.6675\n",
      "Epoch 2/20\n",
      "938/938 [==============================] - 2s 2ms/step - loss: 0.5147 - accuracy: 0.8130\n",
      "Epoch 3/20\n",
      "938/938 [==============================] - 2s 2ms/step - loss: 0.4501 - accuracy: 0.8412\n",
      "Epoch 4/20\n",
      "938/938 [==============================] - 2s 2ms/step - loss: 0.4157 - accuracy: 0.8519\n",
      "Epoch 5/20\n",
      "938/938 [==============================] - 2s 2ms/step - loss: 0.3926 - accuracy: 0.8607\n",
      "Epoch 6/20\n",
      "938/938 [==============================] - 2s 2ms/step - loss: 0.3753 - accuracy: 0.8670\n",
      "Epoch 7/20\n",
      "938/938 [==============================] - 2s 2ms/step - loss: 0.3704 - accuracy: 0.8692\n",
      "Epoch 8/20\n",
      "938/938 [==============================] - 2s 2ms/step - loss: 0.3579 - accuracy: 0.8728\n",
      "Epoch 9/20\n",
      "938/938 [==============================] - 2s 2ms/step - loss: 0.3516 - accuracy: 0.8748\n",
      "Epoch 10/20\n",
      "938/938 [==============================] - 2s 2ms/step - loss: 0.3421 - accuracy: 0.8772\n",
      "Epoch 11/20\n",
      "938/938 [==============================] - 2s 2ms/step - loss: 0.3367 - accuracy: 0.8802\n",
      "Epoch 12/20\n",
      "938/938 [==============================] - 2s 2ms/step - loss: 0.3291 - accuracy: 0.8826\n",
      "Epoch 13/20\n",
      "938/938 [==============================] - 2s 2ms/step - loss: 0.3258 - accuracy: 0.8816\n",
      "Epoch 14/20\n",
      "938/938 [==============================] - 2s 2ms/step - loss: 0.3211 - accuracy: 0.8848\n",
      "Epoch 15/20\n",
      "938/938 [==============================] - 2s 2ms/step - loss: 0.3184 - accuracy: 0.8869\n",
      "Epoch 16/20\n",
      "938/938 [==============================] - 2s 2ms/step - loss: 0.3146 - accuracy: 0.8884\n",
      "Epoch 17/20\n",
      "938/938 [==============================] - 2s 2ms/step - loss: 0.3080 - accuracy: 0.8890\n",
      "Epoch 18/20\n",
      "938/938 [==============================] - 2s 2ms/step - loss: 0.3072 - accuracy: 0.8899\n",
      "Epoch 19/20\n",
      "938/938 [==============================] - 2s 2ms/step - loss: 0.3040 - accuracy: 0.8913\n",
      "Epoch 20/20\n",
      "938/938 [==============================] - 2s 2ms/step - loss: 0.3024 - accuracy: 0.8914\n"
     ]
    },
    {
     "data": {
      "text/plain": [
       "<tensorflow.python.keras.callbacks.History at 0x26bbb042a60>"
      ]
     },
     "execution_count": 35,
     "metadata": {},
     "output_type": "execute_result"
    }
   ],
   "source": [
    "model = define_classifier((28,28,1))\n",
    "model.fit(x_train_reg, y_train_cat, epochs=20, batch_size=64)"
   ]
  },
  {
   "cell_type": "code",
   "execution_count": 36,
   "metadata": {
    "colab": {
     "base_uri": "https://localhost:8080/"
    },
    "id": "DaGO4-4HUF4k",
    "outputId": "42e264fa-33c9-4589-ce91-3be831b8d5a7"
   },
   "outputs": [
    {
     "name": "stdout",
     "output_type": "stream",
     "text": [
      "Test loss: 0.34925034642219543\n",
      "Test accuracy: 0.8787999749183655\n"
     ]
    }
   ],
   "source": [
    "score = model.evaluate(x_test_reg, y_test_cat, verbose=0)\n",
    "print(\"Test loss:\", score[0])\n",
    "print(\"Test accuracy:\", score[1])"
   ]
  },
  {
   "cell_type": "markdown",
   "metadata": {
    "id": "0UwGFe6Yu7AR"
   },
   "source": [
    "-------------\n",
    "\n",
    "## <font color='orange'>**Final Notes**<font/>\n",
    "\n",
    "As your dataset complexity changes, you will need to fine-tune your model accordingly. You might end following our procedure earlier, or might discover a better one.<br/>\n",
    "The purpose here was to give an example of how to react to failures when confronting a practical deep learning problem.<br/><br/>\n",
    "\n",
    "*“Breathe as the tears flow,<br/>\n",
    "Breathe when you cannot gaze up high,<br/>\n",
    "Breathe as to know the world will lie,<br/>\n",
    "Breathe when you choke to ask: “Why?”<br/>\n",
    "Breathe even when you are about to die.*\"<br/><br/>\n",
    "-Somya Kedia"
   ]
  },
  {
   "cell_type": "code",
   "execution_count": null,
   "metadata": {
    "id": "drcGC7mvUypV"
   },
   "outputs": [],
   "source": []
  }
 ],
 "metadata": {
  "colab": {
   "name": "MLP.ipynb",
   "provenance": []
  },
  "kernelspec": {
   "display_name": "Python 3",
   "language": "python",
   "name": "python3"
  },
  "language_info": {
   "codemirror_mode": {
    "name": "ipython",
    "version": 3
   },
   "file_extension": ".py",
   "mimetype": "text/x-python",
   "name": "python",
   "nbconvert_exporter": "python",
   "pygments_lexer": "ipython3",
   "version": "3.8.8"
  }
 },
 "nbformat": 4,
 "nbformat_minor": 4
}
