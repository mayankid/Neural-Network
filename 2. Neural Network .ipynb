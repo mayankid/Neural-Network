{
 "cells": [
  {
   "cell_type": "code",
   "execution_count": 2,
   "id": "762ad68e",
   "metadata": {},
   "outputs": [],
   "source": [
    "# importing required libraries\n",
    "%matplotlib inline\n",
    "\n",
    "import numpy as np\n",
    "import matplotlib.pyplot as plt"
   ]
  },
  {
   "cell_type": "code",
   "execution_count": 3,
   "id": "58ed4db2",
   "metadata": {},
   "outputs": [
    {
     "name": "stdout",
     "output_type": "stream",
     "text": [
      "Version of numpy: 1.20.1\n"
     ]
    }
   ],
   "source": [
    "# version of numpy library\n",
    "print(\"Version of numpy:\", np.__version__)"
   ]
  },
  {
   "cell_type": "code",
   "execution_count": 4,
   "id": "c10db96c",
   "metadata": {},
   "outputs": [
    {
     "name": "stdout",
     "output_type": "stream",
     "text": [
      "Version of matplotlib: 3.3.4\n"
     ]
    }
   ],
   "source": [
    "# version of matplotlib library\n",
    "import matplotlib\n",
    "\n",
    "print(\"Version of matplotlib:\", matplotlib.__version__)"
   ]
  },
  {
   "cell_type": "code",
   "execution_count": 5,
   "id": "6c08ec79",
   "metadata": {},
   "outputs": [],
   "source": [
    "# set random seed\n",
    "np.random.seed(42)"
   ]
  },
  {
   "cell_type": "code",
   "execution_count": 6,
   "id": "ca5f35e1",
   "metadata": {},
   "outputs": [
    {
     "name": "stdout",
     "output_type": "stream",
     "text": [
      "Input:\n",
      " [[1 0 0]\n",
      " [1 0 1]\n",
      " [0 1 0]]\n",
      "\n",
      "Shape of Input: (3, 3)\n"
     ]
    }
   ],
   "source": [
    "# creating the input array\n",
    "X = np.array([[1, 0, 0], [1, 0, 1], [0, 1, 0]])\n",
    "\n",
    "print(\"Input:\\n\", X)\n",
    "\n",
    "# shape of input array\n",
    "print(\"\\nShape of Input:\", X.shape)"
   ]
  },
  {
   "cell_type": "code",
   "execution_count": 12,
   "id": "7e2a40c1",
   "metadata": {},
   "outputs": [
    {
     "name": "stdout",
     "output_type": "stream",
     "text": [
      "Input in matrix form:\n",
      " [[1 1 0]\n",
      " [0 0 1]\n",
      " [0 1 0]]\n",
      "\n",
      "Shape of Input Matrix: (3, 3)\n"
     ]
    }
   ],
   "source": [
    "# converting the input in matrix form\n",
    "X = X.T\n",
    "print(\"Input in matrix form:\\n\", X)\n",
    "\n",
    "# shape of input matrix\n",
    "print(\"\\nShape of Input Matrix:\", X.shape)"
   ]
  },
  {
   "cell_type": "code",
   "execution_count": 8,
   "id": "fad50008",
   "metadata": {},
   "outputs": [
    {
     "name": "stdout",
     "output_type": "stream",
     "text": [
      "Actual Output:\n",
      " [[1]\n",
      " [1]\n",
      " [0]]\n",
      "\n",
      "Output in matrix form:\n",
      " [[1 1 0]]\n",
      "\n",
      "Shape of Output: (1, 3)\n"
     ]
    }
   ],
   "source": [
    "# creating the output array\n",
    "y = np.array([[1], [1], [0]])\n",
    "\n",
    "print(\"Actual Output:\\n\", y)\n",
    "\n",
    "# output in matrix form\n",
    "y = y.T\n",
    "\n",
    "print(\"\\nOutput in matrix form:\\n\", y)\n",
    "\n",
    "# shape of input array\n",
    "print(\"\\nShape of Output:\", y.shape)"
   ]
  },
  {
   "cell_type": "code",
   "execution_count": 10,
   "id": "e26df149",
   "metadata": {},
   "outputs": [
    {
     "name": "stdout",
     "output_type": "stream",
     "text": [
      "[[0.83244264 0.21233911 0.18182497]\n",
      " [0.18340451 0.30424224 0.52475643]\n",
      " [0.43194502 0.29122914 0.61185289]]\n",
      "[[0.13949386]\n",
      " [0.29214465]\n",
      " [0.36636184]]\n"
     ]
    }
   ],
   "source": [
    "# initializing weight\n",
    "# Shape of weights_input_hidden should number of neurons at input layer * number of neurons at hidden layer\n",
    "inputLayer_neurons= X.shape[1]\n",
    "hiddenLayer_neurons=3\n",
    "outputLayer_neurons=1\n",
    "weights_input_hidden = np.random.uniform(size=(inputLayer_neurons, hiddenLayer_neurons))\n",
    "print(weights_input_hidden)\n",
    "\n",
    "# Shape of weights_hidden_output should number of neurons at hidden layer * number of neurons at output layer\n",
    "weights_hidden_output = np.random.uniform(size=(hiddenLayer_neurons, outputLayer_neurons))\n",
    "print(weights_hidden_output)"
   ]
  },
  {
   "cell_type": "code",
   "execution_count": 68,
   "id": "659acede",
   "metadata": {},
   "outputs": [
    {
     "data": {
      "text/plain": [
       "((3, 3), (3, 1))"
      ]
     },
     "execution_count": 68,
     "metadata": {},
     "output_type": "execute_result"
    }
   ],
   "source": [
    "# shape of weight matrix\n",
    "weights_input_hidden.shape, weights_hidden_output.shape# We are using sigmoid as an activation function so defining the sigmoid function here"
   ]
  },
  {
   "cell_type": "code",
   "execution_count": 14,
   "id": "8e0abf78",
   "metadata": {},
   "outputs": [],
   "source": [
    "# We are using sigmoid as an activation function so defining the sigmoid function here\n",
    "\n",
    "# defining the Sigmoid Function\n",
    "def sigmoid(x):\n",
    "    return 1 / (1 + np.exp(-x))"
   ]
  },
  {
   "cell_type": "code",
   "execution_count": 15,
   "id": "179eb8a5",
   "metadata": {},
   "outputs": [
    {
     "name": "stdout",
     "output_type": "stream",
     "text": [
      "[[0.83244264 1.26438766 0.18340451]\n",
      " [0.21233911 0.50356825 0.30424224]\n",
      " [0.18182497 0.79367786 0.52475643]]\n",
      "[[0.69687117 0.77978049 0.54572303]\n",
      " [0.55288622 0.62329752 0.57547924]\n",
      " [0.54533142 0.68862049 0.6282593 ]]\n"
     ]
    }
   ],
   "source": [
    "# hidden layer activations\n",
    "\n",
    "hiddenLayer_linearTransform = np.dot(weights_input_hidden.T, X)\n",
    "print(hiddenLayer_linearTransform)\n",
    "hiddenLayer_activations = sigmoid(hiddenLayer_linearTransform)\n",
    "print(hiddenLayer_activations)\n"
   ]
  },
  {
   "cell_type": "code",
   "execution_count": 18,
   "id": "02123b70",
   "metadata": {},
   "outputs": [
    {
     "name": "stdout",
     "output_type": "stream",
     "text": [
      "[[0.45852062 0.5431519  0.47441843]]\n",
      "[[0.61266317 0.63254532 0.616429  ]]\n"
     ]
    }
   ],
   "source": [
    "# calculating the output\n",
    "outputLayer_linearTransform = np.dot(weights_hidden_output.T, hiddenLayer_activations)\n",
    "print(outputLayer_linearTransform)\n",
    "output = sigmoid(outputLayer_linearTransform)\n",
    "print(output)"
   ]
  },
  {
   "cell_type": "code",
   "execution_count": 19,
   "id": "34909a06",
   "metadata": {},
   "outputs": [
    {
     "data": {
      "text/plain": [
       "array([[0.61266317, 0.63254532, 0.616429  ]])"
      ]
     },
     "execution_count": 19,
     "metadata": {},
     "output_type": "execute_result"
    }
   ],
   "source": [
    "# output\n",
    "output"
   ]
  },
  {
   "cell_type": "code",
   "execution_count": 73,
   "id": "635ab2a3",
   "metadata": {},
   "outputs": [
    {
     "data": {
      "text/plain": [
       "array([[0.06816569, 0.06289716, 0.19007001]])"
      ]
     },
     "execution_count": 73,
     "metadata": {},
     "output_type": "execute_result"
    }
   ],
   "source": [
    "# calculating error\n",
    "error = np.square(y - output) / 2\n",
    "error"
   ]
  },
  {
   "cell_type": "code",
   "execution_count": 74,
   "id": "ede08994",
   "metadata": {},
   "outputs": [],
   "source": [
    "# rate of change of error w.r.t. output\n",
    "error_wrt_output = -(y - output)"
   ]
  },
  {
   "cell_type": "code",
   "execution_count": 75,
   "id": "8c0b7f38",
   "metadata": {},
   "outputs": [],
   "source": [
    "# rate of change of output w.r.t. Z2\n",
    "output_wrt_outputLayer_LinearTransform = np.multiply(output, (1 - output))"
   ]
  },
  {
   "cell_type": "code",
   "execution_count": 76,
   "id": "b42490d5",
   "metadata": {},
   "outputs": [],
   "source": [
    "# rate of change of Z2 w.r.t. weights between hidden and output layer\n",
    "outputLayer_LinearTransform_wrt_weights_hidden_output = hiddenLayer_activations"
   ]
  },
  {
   "cell_type": "code",
   "execution_count": 77,
   "id": "2271a26d",
   "metadata": {},
   "outputs": [
    {
     "data": {
      "text/plain": [
       "((1, 3), (1, 3), (3, 3))"
      ]
     },
     "execution_count": 77,
     "metadata": {},
     "output_type": "execute_result"
    }
   ],
   "source": [
    "# checking the shapes of partial derivatives\n",
    "error_wrt_output.shape, output_wrt_outputLayer_LinearTransform.shape, outputLayer_LinearTransform_wrt_weights_hidden_output.shape"
   ]
  },
  {
   "cell_type": "code",
   "execution_count": 78,
   "id": "38ff99a4",
   "metadata": {},
   "outputs": [
    {
     "data": {
      "text/plain": [
       "(3, 1)"
      ]
     },
     "execution_count": 78,
     "metadata": {},
     "output_type": "execute_result"
    }
   ],
   "source": [
    "# shape of weights of output layer\n",
    "weights_hidden_output.shape"
   ]
  },
  {
   "cell_type": "code",
   "execution_count": 79,
   "id": "781991cf",
   "metadata": {},
   "outputs": [],
   "source": [
    "# rate of change of error w.r.t weight between hidden and output layer\n",
    "error_wrt_weights_hidden_output = np.dot(\n",
    "    outputLayer_LinearTransform_wrt_weights_hidden_output,\n",
    "    (error_wrt_output * output_wrt_outputLayer_LinearTransform).T,\n",
    ")"
   ]
  },
  {
   "cell_type": "code",
   "execution_count": 80,
   "id": "00c3e7ad",
   "metadata": {},
   "outputs": [
    {
     "data": {
      "text/plain": [
       "(3, 1)"
      ]
     },
     "execution_count": 80,
     "metadata": {},
     "output_type": "execute_result"
    }
   ],
   "source": [
    "error_wrt_weights_hidden_output.shape"
   ]
  },
  {
   "cell_type": "code",
   "execution_count": 81,
   "id": "0b0cf783",
   "metadata": {},
   "outputs": [],
   "source": [
    "# rate of change of error w.r.t. output\n",
    "error_wrt_output = -(y - output)"
   ]
  },
  {
   "cell_type": "code",
   "execution_count": 82,
   "id": "01d279e8",
   "metadata": {},
   "outputs": [],
   "source": [
    "# rate of change of output w.r.t. Z2\n",
    "output_wrt_outputLayer_LinearTransform = np.multiply(output, (1 - output))"
   ]
  },
  {
   "cell_type": "code",
   "execution_count": 83,
   "id": "c54ac7ad",
   "metadata": {},
   "outputs": [],
   "source": [
    "# rate of change of Z2 w.r.t. hidden layer activations\n",
    "outputLayer_LinearTransform_wrt_hiddenLayer_activations = weights_hidden_output"
   ]
  },
  {
   "cell_type": "code",
   "execution_count": 84,
   "id": "951339bc",
   "metadata": {},
   "outputs": [],
   "source": [
    "# rate of change of hidden layer activations w.r.t. Z1\n",
    "hiddenLayer_activations_wrt_hiddenLayer_linearTransform = np.multiply(\n",
    "    hiddenLayer_activations, (1 - hiddenLayer_activations)\n",
    ")"
   ]
  },
  {
   "cell_type": "code",
   "execution_count": 85,
   "id": "56bea2ec",
   "metadata": {},
   "outputs": [],
   "source": [
    "# rate of change of Z1 w.r.t. weights between input and hidden layer\n",
    "hiddenLayer_linearTransform_wrt_weights_input_hidden = X"
   ]
  },
  {
   "cell_type": "code",
   "execution_count": 87,
   "id": "98286c08",
   "metadata": {},
   "outputs": [
    {
     "name": "stdout",
     "output_type": "stream",
     "text": [
      "(1, 3) (1, 3) (3, 1) (3, 3) (3, 3)\n"
     ]
    }
   ],
   "source": [
    "#checking the shapes of partial derivatives\n",
    "print(\n",
    "    error_wrt_output.shape,\n",
    "    output_wrt_outputLayer_LinearTransform.shape,\n",
    "    outputLayer_LinearTransform_wrt_hiddenLayer_activations.shape,\n",
    "    hiddenLayer_activations_wrt_hiddenLayer_linearTransform.shape,\n",
    "    hiddenLayer_linearTransform_wrt_weights_input_hidden.shape,\n",
    ")"
   ]
  },
  {
   "cell_type": "code",
   "execution_count": 88,
   "id": "6e721bb4",
   "metadata": {},
   "outputs": [
    {
     "data": {
      "text/plain": [
       "(3, 3)"
      ]
     },
     "execution_count": 88,
     "metadata": {},
     "output_type": "execute_result"
    }
   ],
   "source": [
    "# shape of weights of hidden layer\n",
    "weights_input_hidden.shape"
   ]
  },
  {
   "cell_type": "code",
   "execution_count": 89,
   "id": "b8239526",
   "metadata": {},
   "outputs": [],
   "source": [
    "# rate of change of error w.r.t weights between input and hidden layer\n",
    "error_wrt_weights_input_hidden = np.dot(\n",
    "    hiddenLayer_linearTransform_wrt_weights_input_hidden,\n",
    "    (\n",
    "        hiddenLayer_activations_wrt_hiddenLayer_linearTransform\n",
    "        * np.dot(\n",
    "            outputLayer_LinearTransform_wrt_hiddenLayer_activations,\n",
    "            (output_wrt_outputLayer_LinearTransform * error_wrt_output),\n",
    "        )\n",
    "    ).T,\n",
    ")"
   ]
  },
  {
   "cell_type": "code",
   "execution_count": 90,
   "id": "6b70c616",
   "metadata": {},
   "outputs": [
    {
     "data": {
      "text/plain": [
       "(3, 3)"
      ]
     },
     "execution_count": 90,
     "metadata": {},
     "output_type": "execute_result"
    }
   ],
   "source": [
    "error_wrt_weights_input_hidden.shape"
   ]
  },
  {
   "cell_type": "code",
   "execution_count": 91,
   "id": "cdf96aad",
   "metadata": {},
   "outputs": [],
   "source": [
    "# defining the learning rate\n",
    "lr = 0.01"
   ]
  },
  {
   "cell_type": "code",
   "execution_count": 92,
   "id": "b6a81202",
   "metadata": {},
   "outputs": [
    {
     "data": {
      "text/plain": [
       "array([[0.50267902],\n",
       "       [0.05147875],\n",
       "       [0.27864646]])"
      ]
     },
     "execution_count": 92,
     "metadata": {},
     "output_type": "execute_result"
    }
   ],
   "source": [
    "# initial weights_hidden_output\n",
    "weights_hidden_output"
   ]
  },
  {
   "cell_type": "code",
   "execution_count": 93,
   "id": "bca7fa98",
   "metadata": {},
   "outputs": [
    {
     "data": {
      "text/plain": [
       "array([[0.3636296 , 0.97178208, 0.96244729],\n",
       "       [0.2517823 , 0.49724851, 0.30087831],\n",
       "       [0.28484049, 0.03688695, 0.60956433]])"
      ]
     },
     "execution_count": 93,
     "metadata": {},
     "output_type": "execute_result"
    }
   ],
   "source": [
    "# initial weights_input_hidden\n",
    "weights_input_hidden"
   ]
  },
  {
   "cell_type": "code",
   "execution_count": 94,
   "id": "61e0cf6b",
   "metadata": {},
   "outputs": [],
   "source": [
    "# updating the weights of hidden layer\n",
    "weights_input_hidden = weights_input_hidden - lr * error_wrt_weights_input_hidden"
   ]
  },
  {
   "cell_type": "code",
   "execution_count": 95,
   "id": "afafb268",
   "metadata": {},
   "outputs": [
    {
     "data": {
      "text/plain": [
       "array([[0.50267902],\n",
       "       [0.05147875],\n",
       "       [0.27864646]])"
      ]
     },
     "execution_count": 95,
     "metadata": {},
     "output_type": "execute_result"
    }
   ],
   "source": [
    "# updated weights_hidden_output\n",
    "weights_hidden_output"
   ]
  },
  {
   "cell_type": "code",
   "execution_count": 96,
   "id": "948850d3",
   "metadata": {},
   "outputs": [
    {
     "data": {
      "text/plain": [
       "array([[0.36382618, 0.97179908, 0.96252742],\n",
       "       [0.25160199, 0.49723086, 0.30077903],\n",
       "       [0.2849325 , 0.03689513, 0.60959654]])"
      ]
     },
     "execution_count": 96,
     "metadata": {},
     "output_type": "execute_result"
    }
   ],
   "source": [
    "# updated weights_input_hidden\n",
    "weights_input_hidden"
   ]
  },
  {
   "cell_type": "code",
   "execution_count": 99,
   "id": "0f690d05",
   "metadata": {},
   "outputs": [
    {
     "name": "stdout",
     "output_type": "stream",
     "text": [
      "Error at epoch 0 is 0.10704\n",
      "Error at epoch 100 is 0.10576\n",
      "Error at epoch 200 is 0.10480\n",
      "Error at epoch 300 is 0.10403\n",
      "Error at epoch 400 is 0.10337\n",
      "Error at epoch 500 is 0.10279\n",
      "Error at epoch 600 is 0.10224\n",
      "Error at epoch 700 is 0.10173\n",
      "Error at epoch 800 is 0.10122\n",
      "Error at epoch 900 is 0.10072\n"
     ]
    }
   ],
   "source": [
    "losses = []\n",
    "epochs = 1000\n",
    "for epoch in range(epochs):\n",
    "    ## Forward Propogation\n",
    "\n",
    "    # calculating hidden layer activations\n",
    "    hiddenLayer_linearTransform = np.dot(weights_input_hidden.T, X)\n",
    "    hiddenLayer_activations = sigmoid(hiddenLayer_linearTransform)\n",
    "\n",
    "    # calculating the output\n",
    "    outputLayer_linearTransform = np.dot(\n",
    "        weights_hidden_output.T, hiddenLayer_activations\n",
    "    )\n",
    "    output = sigmoid(outputLayer_linearTransform)\n",
    "\n",
    "    ## Backward Propagation\n",
    "\n",
    "    # calculating error\n",
    "    error = np.square(y - output) / 2\n",
    "\n",
    "    # calculating rate of change of error w.r.t weight between hidden and output layer\n",
    "    error_wrt_output = -(y - output)\n",
    "    output_wrt_outputLayer_LinearTransform = np.multiply(output, (1 - output))\n",
    "    outputLayer_LinearTransform_wrt_weights_hidden_output = hiddenLayer_activations\n",
    "\n",
    "    error_wrt_weights_hidden_output = np.dot(\n",
    "        outputLayer_LinearTransform_wrt_weights_hidden_output,\n",
    "        (error_wrt_output * output_wrt_outputLayer_LinearTransform).T,\n",
    "    )\n",
    "\n",
    "    # calculating rate of change of error w.r.t weights between input and hidden layer\n",
    "    outputLayer_LinearTransform_wrt_hiddenLayer_activations = weights_hidden_output\n",
    "    hiddenLayer_activations_wrt_hiddenLayer_linearTransform = np.multiply(\n",
    "        hiddenLayer_activations, (1 - hiddenLayer_activations)\n",
    "    )\n",
    "    hiddenLayer_linearTransform_wrt_weights_input_hidden = X\n",
    "    error_wrt_weights_input_hidden = np.dot(\n",
    "        hiddenLayer_linearTransform_wrt_weights_input_hidden,\n",
    "        (\n",
    "            hiddenLayer_activations_wrt_hiddenLayer_linearTransform\n",
    "            * np.dot(\n",
    "                outputLayer_LinearTransform_wrt_hiddenLayer_activations,\n",
    "                (output_wrt_outputLayer_LinearTransform * error_wrt_output),\n",
    "            )\n",
    "        ).T,\n",
    "    )\n",
    "\n",
    "    # updating the weights\n",
    "    weights_hidden_output = weights_hidden_output - lr * error_wrt_weights_hidden_output\n",
    "    weights_input_hidden = weights_input_hidden - lr * error_wrt_weights_input_hidden\n",
    "\n",
    "    # print error at every 100th epoch\n",
    "    epoch_loss = np.average(error)\n",
    "    if epoch % 100 == 0:\n",
    "        print(f\"Error at epoch {epoch} is {epoch_loss:.5f}\")\n",
    "\n",
    "    # appending the error of each epoch\n",
    "    losses.append(epoch_loss)"
   ]
  },
  {
   "cell_type": "code",
   "execution_count": 100,
   "id": "136ff2b8",
   "metadata": {},
   "outputs": [
    {
     "data": {
      "text/plain": [
       "array([[0.53510012, 1.00288869, 1.05683508],\n",
       "       [0.04722269, 0.45562362, 0.14713732],\n",
       "       [0.36258971, 0.05155493, 0.64621402]])"
      ]
     },
     "execution_count": 100,
     "metadata": {},
     "output_type": "execute_result"
    }
   ],
   "source": [
    "# updated w_ih\n",
    "weights_input_hidden"
   ]
  },
  {
   "cell_type": "code",
   "execution_count": 101,
   "id": "e257e26f",
   "metadata": {},
   "outputs": [
    {
     "data": {
      "text/plain": [
       "array([[0.58486654],\n",
       "       [0.1344519 ],\n",
       "       [0.51748777]])"
      ]
     },
     "execution_count": 101,
     "metadata": {},
     "output_type": "execute_result"
    }
   ],
   "source": [
    "# updated w_ho\n",
    "weights_hidden_output"
   ]
  },
  {
   "cell_type": "code",
   "execution_count": 102,
   "id": "774459a2",
   "metadata": {},
   "outputs": [
    {
     "data": {
      "text/plain": [
       "[<matplotlib.lines.Line2D at 0x1aad498ae80>]"
      ]
     },
     "execution_count": 102,
     "metadata": {},
     "output_type": "execute_result"
    },
    {
     "data": {
      "image/png": "[encoded data removed]",
      "text/plain": [
       "<Figure size 432x288 with 1 Axes>"
      ]
     },
     "metadata": {
      "needs_background": "light"
     },
     "output_type": "display_data"
    }
   ],
   "source": [
    "# visualizing the error after each epoch\n",
    "plt.plot(np.arange(1, epochs + 1), np.array(losses))"
   ]
  },
  {
   "cell_type": "code",
   "execution_count": 103,
   "id": "cd70899f",
   "metadata": {},
   "outputs": [
    {
     "data": {
      "text/plain": [
       "array([[0.70080025, 0.72168737, 0.65911344]])"
      ]
     },
     "execution_count": 103,
     "metadata": {},
     "output_type": "execute_result"
    }
   ],
   "source": [
    "# final output from the model\n",
    "output"
   ]
  },
  {
   "cell_type": "code",
   "execution_count": 104,
   "id": "ee619363",
   "metadata": {},
   "outputs": [
    {
     "data": {
      "text/plain": [
       "array([[1, 1, 0]])"
      ]
     },
     "execution_count": 104,
     "metadata": {},
     "output_type": "execute_result"
    }
   ],
   "source": [
    "# actual target\n",
    "y"
   ]
  },
  {
   "cell_type": "code",
   "execution_count": 105,
   "id": "1f7f42a5",
   "metadata": {},
   "outputs": [],
   "source": [
    "from sklearn.datasets import make_moons\n",
    "\n",
    "X, y = make_moons(n_samples=1000, random_state=42, noise=0.1)"
   ]
  },
  {
   "cell_type": "code",
   "execution_count": 106,
   "id": "564d612b",
   "metadata": {},
   "outputs": [
    {
     "data": {
      "text/plain": [
       "<matplotlib.collections.PathCollection at 0x1aad5f5b6a0>"
      ]
     },
     "execution_count": 106,
     "metadata": {},
     "output_type": "execute_result"
    },
    {
     "data": {
      "image/png": "[encoded data removed]",
      "text/plain": [
       "<Figure size 432x288 with 1 Axes>"
      ]
     },
     "metadata": {
      "needs_background": "light"
     },
     "output_type": "display_data"
    }
   ],
   "source": [
    "plt.scatter(X[:, 0], X[:, 1], s=10, c=y)"
   ]
  },
  {
   "cell_type": "code",
   "execution_count": 107,
   "id": "2096a27c",
   "metadata": {},
   "outputs": [
    {
     "data": {
      "text/plain": [
       "array([[-0.05146968,  0.44419863],\n",
       "       [ 1.03201691, -0.41974116],\n",
       "       [ 0.86789186, -0.25482711],\n",
       "       ...,\n",
       "       [ 1.68425911, -0.34822268],\n",
       "       [-0.9672013 ,  0.26367208],\n",
       "       [ 0.78758971,  0.61660945]])"
      ]
     },
     "execution_count": 107,
     "metadata": {},
     "output_type": "execute_result"
    }
   ],
   "source": [
    "X"
   ]
  },
  {
   "cell_type": "code",
   "execution_count": 108,
   "id": "8c4dac89",
   "metadata": {},
   "outputs": [],
   "source": [
    "#Normalize the inputs\n",
    "X -= X.min()\n",
    "X /= X.max()"
   ]
  },
  {
   "cell_type": "code",
   "execution_count": 109,
   "id": "77561953",
   "metadata": {},
   "outputs": [
    {
     "data": {
      "text/plain": [
       "(0.0, 1.0)"
      ]
     },
     "execution_count": 109,
     "metadata": {},
     "output_type": "execute_result"
    }
   ],
   "source": [
    "X.min(), X.max()"
   ]
  },
  {
   "cell_type": "code",
   "execution_count": 110,
   "id": "264e7167",
   "metadata": {},
   "outputs": [
    {
     "data": {
      "text/plain": [
       "array([0, 1], dtype=int64)"
      ]
     },
     "execution_count": 110,
     "metadata": {},
     "output_type": "execute_result"
    }
   ],
   "source": [
    "np.unique(y)"
   ]
  },
  {
   "cell_type": "code",
   "execution_count": 111,
   "id": "270987fa",
   "metadata": {},
   "outputs": [
    {
     "data": {
      "text/plain": [
       "((1000, 2), (1000,))"
      ]
     },
     "execution_count": 111,
     "metadata": {},
     "output_type": "execute_result"
    }
   ],
   "source": [
    "X.shape, y.shape"
   ]
  },
  {
   "cell_type": "code",
   "execution_count": 112,
   "id": "d07af3c2",
   "metadata": {},
   "outputs": [],
   "source": [
    "X = X.T\n",
    "\n",
    "y = y.reshape(1, -1)"
   ]
  },
  {
   "cell_type": "code",
   "execution_count": 113,
   "id": "9efa98c1",
   "metadata": {},
   "outputs": [
    {
     "data": {
      "text/plain": [
       "((2, 1000), (1, 1000))"
      ]
     },
     "execution_count": 113,
     "metadata": {},
     "output_type": "execute_result"
    }
   ],
   "source": [
    "X.shape, y.shape"
   ]
  },
  {
   "cell_type": "code",
   "execution_count": 114,
   "id": "4370f6bf",
   "metadata": {},
   "outputs": [
    {
     "name": "stdout",
     "output_type": "stream",
     "text": [
      "Error at epoch 0 is 0.21725\n",
      "Error at epoch 1000 is 0.02082\n",
      "Error at epoch 2000 is 0.00891\n",
      "Error at epoch 3000 is 0.00796\n",
      "Error at epoch 4000 is 0.00723\n",
      "Error at epoch 5000 is 0.00959\n",
      "Error at epoch 6000 is 0.00702\n",
      "Error at epoch 7000 is 0.00653\n",
      "Error at epoch 8000 is 0.00663\n",
      "Error at epoch 9000 is 0.00630\n"
     ]
    }
   ],
   "source": [
    "# defining the model architecture\n",
    "inputLayer_neurons = X.shape[0]  # number of features in data set\n",
    "hiddenLayer_neurons = 10  # number of hidden layers neurons\n",
    "outputLayer_neurons = 1  # number of neurons at output layer\n",
    "\n",
    "# initializing weight\n",
    "weights_input_hidden = np.random.uniform(size=(inputLayer_neurons, hiddenLayer_neurons))\n",
    "weights_hidden_output = np.random.uniform(\n",
    "    size=(hiddenLayer_neurons, outputLayer_neurons)\n",
    ")\n",
    "\n",
    "# defining the parameters\n",
    "lr = 0.1\n",
    "epochs = 10000\n",
    "\n",
    "losses = []\n",
    "for epoch in range(epochs):\n",
    "    ## Forward Propogation\n",
    "\n",
    "    # calculating hidden layer activations\n",
    "    hiddenLayer_linearTransform = np.dot(weights_input_hidden.T, X)\n",
    "    hiddenLayer_activations = sigmoid(hiddenLayer_linearTransform)\n",
    "\n",
    "    # calculating the output\n",
    "    outputLayer_linearTransform = np.dot(\n",
    "        weights_hidden_output.T, hiddenLayer_activations\n",
    "    )\n",
    "    output = sigmoid(outputLayer_linearTransform)\n",
    "\n",
    "    ## Backward Propagation\n",
    "\n",
    "    # calculating error\n",
    "    error = np.square(y - output) / 2\n",
    "\n",
    "    # calculating rate of change of error w.r.t weight between hidden and output layer\n",
    "    error_wrt_output = -(y - output)\n",
    "    output_wrt_outputLayer_LinearTransform = np.multiply(output, (1 - output))\n",
    "    outputLayer_LinearTransform_wrt_weights_hidden_output = hiddenLayer_activations\n",
    "\n",
    "    error_wrt_weights_hidden_output = np.dot(\n",
    "        outputLayer_LinearTransform_wrt_weights_hidden_output,\n",
    "        (error_wrt_output * output_wrt_outputLayer_LinearTransform).T,\n",
    "    )\n",
    "\n",
    "    # calculating rate of change of error w.r.t weights between input and hidden layer\n",
    "    outputLayer_LinearTransform_wrt_hiddenLayer_activations = weights_hidden_output\n",
    "    hiddenLayer_activations_wrt_hiddenLayer_linearTransform = np.multiply(\n",
    "        hiddenLayer_activations, (1 - hiddenLayer_activations)\n",
    "    )\n",
    "    hiddenLayer_linearTransform_wrt_weights_input_hidden = X\n",
    "    error_wrt_weights_input_hidden = np.dot(\n",
    "        hiddenLayer_linearTransform_wrt_weights_input_hidden,\n",
    "        (\n",
    "            hiddenLayer_activations_wrt_hiddenLayer_linearTransform\n",
    "            * np.dot(\n",
    "                outputLayer_LinearTransform_wrt_hiddenLayer_activations,\n",
    "                (output_wrt_outputLayer_LinearTransform * error_wrt_output),\n",
    "            )\n",
    "        ).T,\n",
    "    )\n",
    "\n",
    "    # updating the weights\n",
    "    weights_hidden_output = weights_hidden_output - lr * error_wrt_weights_hidden_output\n",
    "    weights_input_hidden = weights_input_hidden - lr * error_wrt_weights_input_hidden\n",
    "\n",
    "    # print error at every 100th epoch\n",
    "    epoch_loss = np.average(error)\n",
    "    if epoch % 1000 == 0:\n",
    "        print(f\"Error at epoch {epoch} is {epoch_loss:.5f}\")\n",
    "\n",
    "    # appending the error of each epoch\n",
    "    losses.append(epoch_loss)"
   ]
  },
  {
   "cell_type": "code",
   "execution_count": 115,
   "id": "ed24d26a",
   "metadata": {},
   "outputs": [
    {
     "data": {
      "text/plain": [
       "[<matplotlib.lines.Line2D at 0x1aad6512400>]"
      ]
     },
     "execution_count": 115,
     "metadata": {},
     "output_type": "execute_result"
    },
    {
     "data": {
      "image/png": "[encoded data removed]",
      "text/plain": [
       "<Figure size 432x288 with 1 Axes>"
      ]
     },
     "metadata": {
      "needs_background": "light"
     },
     "output_type": "display_data"
    }
   ],
   "source": [
    "# visualizing the error after each epoch\n",
    "plt.plot(np.arange(1, epochs + 1), np.array(losses))"
   ]
  },
  {
   "cell_type": "code",
   "execution_count": 116,
   "id": "900f1c84",
   "metadata": {},
   "outputs": [
    {
     "data": {
      "text/plain": [
       "array([[1, 1, 1, 1, 0]], dtype=int64)"
      ]
     },
     "execution_count": 116,
     "metadata": {},
     "output_type": "execute_result"
    }
   ],
   "source": [
    "y[:, :5]"
   ]
  },
  {
   "cell_type": "code",
   "execution_count": 117,
   "id": "765f7013",
   "metadata": {},
   "outputs": [
    {
     "data": {
      "text/plain": [
       "<matplotlib.collections.PathCollection at 0x1aad9034af0>"
      ]
     },
     "execution_count": 117,
     "metadata": {},
     "output_type": "execute_result"
    },
    {
     "data": {
      "image/png": "[encoded data removed]",
      "text/plain": [
       "<Figure size 432x288 with 1 Axes>"
      ]
     },
     "metadata": {
      "needs_background": "light"
     },
     "output_type": "display_data"
    }
   ],
   "source": [
    "# Define region of interest by data limits\n",
    "steps = 1000\n",
    "x_span = np.linspace(X[0, :].min(), X[0, :].max(), steps)\n",
    "y_span = np.linspace(X[1, :].min(), X[1, :].max(), steps)\n",
    "xx, yy = np.meshgrid(x_span, y_span)\n",
    "\n",
    "# forward pass for region of interest\n",
    "hiddenLayer_linearTransform = np.dot(\n",
    "    weights_input_hidden.T, np.c_[xx.ravel(), yy.ravel()].T\n",
    ")\n",
    "hiddenLayer_activations = sigmoid(hiddenLayer_linearTransform)\n",
    "outputLayer_linearTransform = np.dot(weights_hidden_output.T, hiddenLayer_activations)\n",
    "output_span = sigmoid(outputLayer_linearTransform)\n",
    "\n",
    "# Make predictions across region of interest\n",
    "labels = (output_span > 0.5).astype(int)\n",
    "\n",
    "# Plot decision boundary in region of interest\n",
    "z = labels.reshape(xx.shape)\n",
    "fig, ax = plt.subplots()\n",
    "ax.contourf(xx, yy, z, alpha=0.2)\n",
    "\n",
    "# Get predicted labels on training data and plot\n",
    "train_labels = (output > 0.5).astype(int)\n",
    "\n",
    "# create scatter plot\n",
    "ax.scatter(X[0, :], X[1, :], s=10, c=y.squeeze())"
   ]
  },
  {
   "cell_type": "code",
   "execution_count": null,
   "id": "593a3560",
   "metadata": {},
   "outputs": [],
   "source": []
  }
 ],
 "metadata": {
  "kernelspec": {
   "display_name": "Python 3",
   "language": "python",
   "name": "python3"
  },
  "language_info": {
   "codemirror_mode": {
    "name": "ipython",
    "version": 3
   },
   "file_extension": ".py",
   "mimetype": "text/x-python",
   "name": "python",
   "nbconvert_exporter": "python",
   "pygments_lexer": "ipython3",
   "version": "3.8.8"
  }
 },
 "nbformat": 4,
 "nbformat_minor": 5
}
