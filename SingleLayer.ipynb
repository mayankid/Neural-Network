{
 "cells": [
  {
   "cell_type": "code",
   "execution_count": 3,
   "id": "d434adba",
   "metadata": {},
   "outputs": [],
   "source": [
    "# importing the library\n",
    "import numpy as np\n"
   ]
  },
  {
   "cell_type": "code",
   "execution_count": 4,
   "id": "45e439e1",
   "metadata": {},
   "outputs": [
    {
     "name": "stdout",
     "output_type": "stream",
     "text": [
      "\n",
      " Input:\n",
      "[[1 0 1]\n",
      " [1 0 1]\n",
      " [0 1 0]]\n"
     ]
    }
   ],
   "source": [
    "# creating the input array\n",
    "X=np.array([[1,0,1],[1,0,1],[0,1,0]])\n",
    "print ('\\n Input:')\n",
    "print(X)"
   ]
  },
  {
   "cell_type": "code",
   "execution_count": 5,
   "id": "eeb5454c",
   "metadata": {},
   "outputs": [
    {
     "name": "stdout",
     "output_type": "stream",
     "text": [
      "\n",
      " Actual Output:\n",
      "[[1]\n",
      " [1]\n",
      " [0]]\n"
     ]
    }
   ],
   "source": [
    "# creating the output array\n",
    "y=np.array([[1],[1],[0]])\n",
    "print ('\\n Actual Output:')\n",
    "print(y)"
   ]
  },
  {
   "cell_type": "code",
   "execution_count": 6,
   "id": "cf77ff6d",
   "metadata": {},
   "outputs": [],
   "source": [
    "# defining the Sigmoid Function\n",
    "def sigmoid (x):\n",
    "    return 1/(1 + np.exp(-x))"
   ]
  },
  {
   "cell_type": "code",
   "execution_count": 7,
   "id": "574b75ed",
   "metadata": {},
   "outputs": [],
   "source": [
    "# derivative of Sigmoid Function\n",
    "def derivatives_sigmoid(x):\n",
    "    return x * (1 - x)"
   ]
  },
  {
   "cell_type": "code",
   "execution_count": 14,
   "id": "371379c9",
   "metadata": {},
   "outputs": [],
   "source": [
    "# initializing the variables\n",
    "epoch=1000 # number of training iterations\n",
    "lr=0.1 # learning rate\n",
    "inputlayer_neurons = X.shape[1] # number of features in data set\n",
    "output_neurons = 1 # number of neurons at output layer"
   ]
  },
  {
   "cell_type": "code",
   "execution_count": 15,
   "id": "3833991d",
   "metadata": {},
   "outputs": [
    {
     "name": "stdout",
     "output_type": "stream",
     "text": [
      "weight of output [[0.02858024]\n",
      " [0.42653381]\n",
      " [0.82094259]]\n"
     ]
    }
   ],
   "source": [
    "# initializing weight and bias\n",
    "wout=np.random.uniform(size=(inputlayer_neurons,output_neurons))\n",
    "print(\"weight of output\", wout)\n",
    "bout=np.random.uniform(size=(1,output_neurons))"
   ]
  },
  {
   "cell_type": "code",
   "execution_count": 16,
   "id": "30aa50bf",
   "metadata": {},
   "outputs": [
    {
     "name": "stdout",
     "output_type": "stream",
     "text": [
      "\n",
      " Output from the model:\n",
      "[[0.95683796]\n",
      " [0.95683796]\n",
      " [0.07260153]]\n"
     ]
    }
   ],
   "source": [
    "# training the model\n",
    "for i in range(epoch):\n",
    "\n",
    "    #Forward Propogation\n",
    "    output_layer_input1=np.dot(X,wout)\n",
    "    output_layer_input=output_layer_input1 + bout\n",
    "    output = sigmoid(output_layer_input)\n",
    "    #print(output)\n",
    "    \n",
    "    #Backpropagation\n",
    "    E = y-output\n",
    "    slope_output_layer = derivatives_sigmoid(output)\n",
    "    d_output = E * slope_output_layer\n",
    "    #print(d_output)\n",
    "    Error_at_input_layer = d_output.dot(wout.T)\n",
    "    #print(Error_at_input_layer)\n",
    "    wout += X.T.dot(d_output) *lr\n",
    "    #print(wout)\n",
    "    bout += np.sum(d_output, axis=0,keepdims=True) *lr\n",
    "    \n",
    "\n",
    "print ('\\n Output from the model:')\n",
    "print (output)\n"
   ]
  },
  {
   "cell_type": "code",
   "execution_count": null,
   "id": "2141ec00",
   "metadata": {},
   "outputs": [],
   "source": []
  },
  {
   "cell_type": "code",
   "execution_count": null,
   "id": "43622c42",
   "metadata": {},
   "outputs": [],
   "source": []
  }
 ],
 "metadata": {
  "kernelspec": {
   "display_name": "Python 3",
   "language": "python",
   "name": "python3"
  },
  "language_info": {
   "codemirror_mode": {
    "name": "ipython",
    "version": 3
   },
   "file_extension": ".py",
   "mimetype": "text/x-python",
   "name": "python",
   "nbconvert_exporter": "python",
   "pygments_lexer": "ipython3",
   "version": "3.8.8"
  }
 },
 "nbformat": 4,
 "nbformat_minor": 5
}
