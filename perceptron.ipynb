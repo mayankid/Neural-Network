{
 "cells": [
  {
   "cell_type": "code",
   "execution_count": 1,
   "id": "6a868d87",
   "metadata": {},
   "outputs": [],
   "source": [
    "# importing the library\n",
    "import numpy as np\n"
   ]
  },
  {
   "cell_type": "code",
   "execution_count": 2,
   "id": "0af84423",
   "metadata": {},
   "outputs": [
    {
     "name": "stdout",
     "output_type": "stream",
     "text": [
      "\n",
      " Input:\n",
      "[[1 0 1 0]\n",
      " [1 0 1 1]\n",
      " [0 1 0 1]]\n"
     ]
    }
   ],
   "source": [
    "# creating the input array\n",
    "X=np.array([[1,0,1,0],[1,0,1,1],[0,1,0,1]])\n",
    "print ('\\n Input:')\n",
    "print(X)"
   ]
  },
  {
   "cell_type": "code",
   "execution_count": 3,
   "id": "e9ae87e6",
   "metadata": {},
   "outputs": [
    {
     "name": "stdout",
     "output_type": "stream",
     "text": [
      "\n",
      " Actual Output:\n",
      "[[1]\n",
      " [1]\n",
      " [0]]\n"
     ]
    }
   ],
   "source": [
    "# creating the output array\n",
    "y=np.array([[1],[1],[0]])\n",
    "print ('\\n Actual Output:')\n",
    "print(y)"
   ]
  },
  {
   "cell_type": "code",
   "execution_count": 4,
   "id": "090d217b",
   "metadata": {},
   "outputs": [],
   "source": [
    "# defining the Sigmoid Function\n",
    "def sigmoid (x):\n",
    "    return 1/(1 + np.exp(-x))"
   ]
  },
  {
   "cell_type": "code",
   "execution_count": 5,
   "id": "0ecaa999",
   "metadata": {},
   "outputs": [],
   "source": [
    "# derivative of Sigmoid Function\n",
    "def derivatives_sigmoid(x):\n",
    "    return x * (1 - x)"
   ]
  },
  {
   "cell_type": "code",
   "execution_count": 12,
   "id": "182e3d0c",
   "metadata": {},
   "outputs": [
    {
     "name": "stdout",
     "output_type": "stream",
     "text": [
      "4\n"
     ]
    }
   ],
   "source": [
    "# initializing the variables\n",
    "epoch=2 # number of training iterations\n",
    "lr=0.2 # learning rate\n",
    "inputlayer_neurons = X.shape[1] # number of features in data set\n",
    "print(inputlayer_neurons)\n",
    "hiddenlayer_neurons = 3 # number of hidden layers neurons\n",
    "output_neurons = 1 # number of neurons at output layer\n"
   ]
  },
  {
   "cell_type": "code",
   "execution_count": 13,
   "id": "0e881835",
   "metadata": {},
   "outputs": [
    {
     "name": "stdout",
     "output_type": "stream",
     "text": [
      "weight of hidden [[0.71777533 0.25578766 0.23812537]\n",
      " [0.98197023 0.12223253 0.82742567]\n",
      " [0.9160162  0.75544201 0.06235073]\n",
      " [0.78083753 0.63544248 0.43422646]]\n",
      "weight of output [[0.47794045]\n",
      " [0.69786351]\n",
      " [0.00632153]]\n"
     ]
    }
   ],
   "source": [
    "# initializing weight and bias\n",
    "wh=np.random.uniform(size=(inputlayer_neurons,hiddenlayer_neurons))\n",
    "print(\"weight of hidden\", wh)\n",
    "bh=np.random.uniform(size=(1,hiddenlayer_neurons))\n",
    "wout=np.random.uniform(size=(hiddenlayer_neurons,output_neurons))\n",
    "print(\"weight of output\", wout)\n",
    "bout=np.random.uniform(size=(1,output_neurons))"
   ]
  },
  {
   "cell_type": "code",
   "execution_count": 14,
   "id": "1b30ffc9",
   "metadata": {},
   "outputs": [
    {
     "name": "stdout",
     "output_type": "stream",
     "text": [
      "[[0.86738528 0.84098171 0.6514305 ]\n",
      " [0.93455575 0.90895926 0.74260636]\n",
      " [0.88153544 0.80408057 0.83012439]]\n",
      "[[0.74624629]\n",
      " [0.7611165 ]\n",
      " [0.74284954]]\n",
      "[[0.86749225 0.84112549 0.6514413 ]\n",
      " [0.93454154 0.9088315  0.74261263]\n",
      " [0.88119946 0.80290269 0.83011859]]\n",
      "[[0.7404883 ]\n",
      " [0.75516523]\n",
      " [0.7364737 ]]\n",
      "\n",
      " Output from the model:\n",
      "[[0.7404883 ]\n",
      " [0.75516523]\n",
      " [0.7364737 ]]\n"
     ]
    }
   ],
   "source": [
    "# training the model\n",
    "for i in range(epoch):\n",
    "\n",
    "    #Forward Propogation\n",
    "    hidden_layer_input1=np.dot(X,wh)\n",
    "    hidden_layer_input=hidden_layer_input1 + bh\n",
    "    hiddenlayer_activations = sigmoid(hidden_layer_input)\n",
    "    print(hiddenlayer_activations)\n",
    "    output_layer_input1=np.dot(hiddenlayer_activations,wout)\n",
    "    output_layer_input= output_layer_input1+ bout\n",
    "    output = sigmoid(output_layer_input)\n",
    "    print(output)\n",
    "    \n",
    "    #Backpropagation\n",
    "    E = y-output\n",
    "    slope_output_layer = derivatives_sigmoid(output)\n",
    "    slope_hidden_layer = derivatives_sigmoid(hiddenlayer_activations)\n",
    "    d_output = E * slope_output_layer\n",
    "    Error_at_hidden_layer = d_output.dot(wout.T)\n",
    "    d_hiddenlayer = Error_at_hidden_layer * slope_hidden_layer\n",
    "    wout += hiddenlayer_activations.T.dot(d_output) *lr\n",
    "    bout += np.sum(d_output, axis=0,keepdims=True) *lr\n",
    "    wh += X.T.dot(d_hiddenlayer) *lr\n",
    "    bh += np.sum(d_hiddenlayer, axis=0,keepdims=True) *lr\n",
    "\n",
    "print ('\\n Output from the model:')\n",
    "print (output)\n"
   ]
  },
  {
   "cell_type": "code",
   "execution_count": null,
   "id": "ec8e505e",
   "metadata": {},
   "outputs": [],
   "source": []
  }
 ],
 "metadata": {
  "kernelspec": {
   "display_name": "Python 3",
   "language": "python",
   "name": "python3"
  },
  "language_info": {
   "codemirror_mode": {
    "name": "ipython",
    "version": 3
   },
   "file_extension": ".py",
   "mimetype": "text/x-python",
   "name": "python",
   "nbconvert_exporter": "python",
   "pygments_lexer": "ipython3",
   "version": "3.8.8"
  }
 },
 "nbformat": 4,
 "nbformat_minor": 5
}
